{
  "nbformat": 4,
  "nbformat_minor": 0,
  "metadata": {
    "colab": {
      "provenance": []
    },
    "kernelspec": {
      "name": "python3",
      "display_name": "Python 3"
    }
  },
  "cells": [
    {
      "cell_type": "code",
      "metadata": {
        "id": "biHX3Gl4xh6s"
      },
      "source": [
        "import pandas as pd\n",
        "import altair as alt\n",
        "import numpy as np\n",
        "import matplotlib.pyplot as plt\n",
        "import seaborn as sns\n",
        "import datetime as datetime"
      ],
      "execution_count": 64,
      "outputs": []
    },
    {
      "cell_type": "code",
      "metadata": {
        "id": "XIfIcG7O4chZ",
        "colab": {
          "base_uri": "https://localhost:8080/",
          "height": 206
        },
        "outputId": "a6699ef2-3b8c-475a-c8a9-d92a72956652"
      },
      "source": [
        "team= pd.read_excel(\"/content/Team.xlsx\") #team df \n",
        "team.head()"
      ],
      "execution_count": 65,
      "outputs": [
        {
          "output_type": "execute_result",
          "data": {
            "text/plain": [
              "   id  team_api_id  team_fifa_api_id     team_long_name team_short_name\n",
              "0   1         9987             673.0           KRC Genk             GEN\n",
              "1   2         9993             675.0       Beerschot AC             BAC\n",
              "2   3        10000           15005.0   SV Zulte-Waregem             ZUL\n",
              "3   4         9994            2007.0   Sporting Lokeren             LOK\n",
              "4   5         9984            1750.0  KSV Cercle Brugge             CEB"
            ],
            "text/html": [
              "\n",
              "  <div id=\"df-97f4c51e-a3bc-4d5a-8388-c282615c9146\">\n",
              "    <div class=\"colab-df-container\">\n",
              "      <div>\n",
              "<style scoped>\n",
              "    .dataframe tbody tr th:only-of-type {\n",
              "        vertical-align: middle;\n",
              "    }\n",
              "\n",
              "    .dataframe tbody tr th {\n",
              "        vertical-align: top;\n",
              "    }\n",
              "\n",
              "    .dataframe thead th {\n",
              "        text-align: right;\n",
              "    }\n",
              "</style>\n",
              "<table border=\"1\" class=\"dataframe\">\n",
              "  <thead>\n",
              "    <tr style=\"text-align: right;\">\n",
              "      <th></th>\n",
              "      <th>id</th>\n",
              "      <th>team_api_id</th>\n",
              "      <th>team_fifa_api_id</th>\n",
              "      <th>team_long_name</th>\n",
              "      <th>team_short_name</th>\n",
              "    </tr>\n",
              "  </thead>\n",
              "  <tbody>\n",
              "    <tr>\n",
              "      <th>0</th>\n",
              "      <td>1</td>\n",
              "      <td>9987</td>\n",
              "      <td>673.0</td>\n",
              "      <td>KRC Genk</td>\n",
              "      <td>GEN</td>\n",
              "    </tr>\n",
              "    <tr>\n",
              "      <th>1</th>\n",
              "      <td>2</td>\n",
              "      <td>9993</td>\n",
              "      <td>675.0</td>\n",
              "      <td>Beerschot AC</td>\n",
              "      <td>BAC</td>\n",
              "    </tr>\n",
              "    <tr>\n",
              "      <th>2</th>\n",
              "      <td>3</td>\n",
              "      <td>10000</td>\n",
              "      <td>15005.0</td>\n",
              "      <td>SV Zulte-Waregem</td>\n",
              "      <td>ZUL</td>\n",
              "    </tr>\n",
              "    <tr>\n",
              "      <th>3</th>\n",
              "      <td>4</td>\n",
              "      <td>9994</td>\n",
              "      <td>2007.0</td>\n",
              "      <td>Sporting Lokeren</td>\n",
              "      <td>LOK</td>\n",
              "    </tr>\n",
              "    <tr>\n",
              "      <th>4</th>\n",
              "      <td>5</td>\n",
              "      <td>9984</td>\n",
              "      <td>1750.0</td>\n",
              "      <td>KSV Cercle Brugge</td>\n",
              "      <td>CEB</td>\n",
              "    </tr>\n",
              "  </tbody>\n",
              "</table>\n",
              "</div>\n",
              "      <button class=\"colab-df-convert\" onclick=\"convertToInteractive('df-97f4c51e-a3bc-4d5a-8388-c282615c9146')\"\n",
              "              title=\"Convert this dataframe to an interactive table.\"\n",
              "              style=\"display:none;\">\n",
              "        \n",
              "  <svg xmlns=\"http://www.w3.org/2000/svg\" height=\"24px\"viewBox=\"0 0 24 24\"\n",
              "       width=\"24px\">\n",
              "    <path d=\"M0 0h24v24H0V0z\" fill=\"none\"/>\n",
              "    <path d=\"M18.56 5.44l.94 2.06.94-2.06 2.06-.94-2.06-.94-.94-2.06-.94 2.06-2.06.94zm-11 1L8.5 8.5l.94-2.06 2.06-.94-2.06-.94L8.5 2.5l-.94 2.06-2.06.94zm10 10l.94 2.06.94-2.06 2.06-.94-2.06-.94-.94-2.06-.94 2.06-2.06.94z\"/><path d=\"M17.41 7.96l-1.37-1.37c-.4-.4-.92-.59-1.43-.59-.52 0-1.04.2-1.43.59L10.3 9.45l-7.72 7.72c-.78.78-.78 2.05 0 2.83L4 21.41c.39.39.9.59 1.41.59.51 0 1.02-.2 1.41-.59l7.78-7.78 2.81-2.81c.8-.78.8-2.07 0-2.86zM5.41 20L4 18.59l7.72-7.72 1.47 1.35L5.41 20z\"/>\n",
              "  </svg>\n",
              "      </button>\n",
              "      \n",
              "  <style>\n",
              "    .colab-df-container {\n",
              "      display:flex;\n",
              "      flex-wrap:wrap;\n",
              "      gap: 12px;\n",
              "    }\n",
              "\n",
              "    .colab-df-convert {\n",
              "      background-color: #E8F0FE;\n",
              "      border: none;\n",
              "      border-radius: 50%;\n",
              "      cursor: pointer;\n",
              "      display: none;\n",
              "      fill: #1967D2;\n",
              "      height: 32px;\n",
              "      padding: 0 0 0 0;\n",
              "      width: 32px;\n",
              "    }\n",
              "\n",
              "    .colab-df-convert:hover {\n",
              "      background-color: #E2EBFA;\n",
              "      box-shadow: 0px 1px 2px rgba(60, 64, 67, 0.3), 0px 1px 3px 1px rgba(60, 64, 67, 0.15);\n",
              "      fill: #174EA6;\n",
              "    }\n",
              "\n",
              "    [theme=dark] .colab-df-convert {\n",
              "      background-color: #3B4455;\n",
              "      fill: #D2E3FC;\n",
              "    }\n",
              "\n",
              "    [theme=dark] .colab-df-convert:hover {\n",
              "      background-color: #434B5C;\n",
              "      box-shadow: 0px 1px 3px 1px rgba(0, 0, 0, 0.15);\n",
              "      filter: drop-shadow(0px 1px 2px rgba(0, 0, 0, 0.3));\n",
              "      fill: #FFFFFF;\n",
              "    }\n",
              "  </style>\n",
              "\n",
              "      <script>\n",
              "        const buttonEl =\n",
              "          document.querySelector('#df-97f4c51e-a3bc-4d5a-8388-c282615c9146 button.colab-df-convert');\n",
              "        buttonEl.style.display =\n",
              "          google.colab.kernel.accessAllowed ? 'block' : 'none';\n",
              "\n",
              "        async function convertToInteractive(key) {\n",
              "          const element = document.querySelector('#df-97f4c51e-a3bc-4d5a-8388-c282615c9146');\n",
              "          const dataTable =\n",
              "            await google.colab.kernel.invokeFunction('convertToInteractive',\n",
              "                                                     [key], {});\n",
              "          if (!dataTable) return;\n",
              "\n",
              "          const docLinkHtml = 'Like what you see? Visit the ' +\n",
              "            '<a target=\"_blank\" href=https://colab.research.google.com/notebooks/data_table.ipynb>data table notebook</a>'\n",
              "            + ' to learn more about interactive tables.';\n",
              "          element.innerHTML = '';\n",
              "          dataTable['output_type'] = 'display_data';\n",
              "          await google.colab.output.renderOutput(dataTable, element);\n",
              "          const docLink = document.createElement('div');\n",
              "          docLink.innerHTML = docLinkHtml;\n",
              "          element.appendChild(docLink);\n",
              "        }\n",
              "      </script>\n",
              "    </div>\n",
              "  </div>\n",
              "  "
            ]
          },
          "metadata": {},
          "execution_count": 65
        }
      ]
    },
    {
      "cell_type": "code",
      "metadata": {
        "id": "QqGp-YMehvid",
        "colab": {
          "base_uri": "https://localhost:8080/",
          "height": 206
        },
        "outputId": "65c493c5-30a0-44b0-fa69-0648d5fdae93"
      },
      "source": [
        "league= pd.read_excel(\"/content/League.xlsx\") #league df\n",
        "league.head()"
      ],
      "execution_count": 66,
      "outputs": [
        {
          "output_type": "execute_result",
          "data": {
            "text/plain": [
              "      id  country_id                    name\n",
              "0      1           1  Belgium Jupiler League\n",
              "1   1729        1729  England Premier League\n",
              "2   4769        4769          France Ligue 1\n",
              "3   7809        7809   Germany 1. Bundesliga\n",
              "4  10257       10257           Italy Serie A"
            ],
            "text/html": [
              "\n",
              "  <div id=\"df-ce7ca8ae-b1e9-412f-8e64-90c93dd84cae\">\n",
              "    <div class=\"colab-df-container\">\n",
              "      <div>\n",
              "<style scoped>\n",
              "    .dataframe tbody tr th:only-of-type {\n",
              "        vertical-align: middle;\n",
              "    }\n",
              "\n",
              "    .dataframe tbody tr th {\n",
              "        vertical-align: top;\n",
              "    }\n",
              "\n",
              "    .dataframe thead th {\n",
              "        text-align: right;\n",
              "    }\n",
              "</style>\n",
              "<table border=\"1\" class=\"dataframe\">\n",
              "  <thead>\n",
              "    <tr style=\"text-align: right;\">\n",
              "      <th></th>\n",
              "      <th>id</th>\n",
              "      <th>country_id</th>\n",
              "      <th>name</th>\n",
              "    </tr>\n",
              "  </thead>\n",
              "  <tbody>\n",
              "    <tr>\n",
              "      <th>0</th>\n",
              "      <td>1</td>\n",
              "      <td>1</td>\n",
              "      <td>Belgium Jupiler League</td>\n",
              "    </tr>\n",
              "    <tr>\n",
              "      <th>1</th>\n",
              "      <td>1729</td>\n",
              "      <td>1729</td>\n",
              "      <td>England Premier League</td>\n",
              "    </tr>\n",
              "    <tr>\n",
              "      <th>2</th>\n",
              "      <td>4769</td>\n",
              "      <td>4769</td>\n",
              "      <td>France Ligue 1</td>\n",
              "    </tr>\n",
              "    <tr>\n",
              "      <th>3</th>\n",
              "      <td>7809</td>\n",
              "      <td>7809</td>\n",
              "      <td>Germany 1. Bundesliga</td>\n",
              "    </tr>\n",
              "    <tr>\n",
              "      <th>4</th>\n",
              "      <td>10257</td>\n",
              "      <td>10257</td>\n",
              "      <td>Italy Serie A</td>\n",
              "    </tr>\n",
              "  </tbody>\n",
              "</table>\n",
              "</div>\n",
              "      <button class=\"colab-df-convert\" onclick=\"convertToInteractive('df-ce7ca8ae-b1e9-412f-8e64-90c93dd84cae')\"\n",
              "              title=\"Convert this dataframe to an interactive table.\"\n",
              "              style=\"display:none;\">\n",
              "        \n",
              "  <svg xmlns=\"http://www.w3.org/2000/svg\" height=\"24px\"viewBox=\"0 0 24 24\"\n",
              "       width=\"24px\">\n",
              "    <path d=\"M0 0h24v24H0V0z\" fill=\"none\"/>\n",
              "    <path d=\"M18.56 5.44l.94 2.06.94-2.06 2.06-.94-2.06-.94-.94-2.06-.94 2.06-2.06.94zm-11 1L8.5 8.5l.94-2.06 2.06-.94-2.06-.94L8.5 2.5l-.94 2.06-2.06.94zm10 10l.94 2.06.94-2.06 2.06-.94-2.06-.94-.94-2.06-.94 2.06-2.06.94z\"/><path d=\"M17.41 7.96l-1.37-1.37c-.4-.4-.92-.59-1.43-.59-.52 0-1.04.2-1.43.59L10.3 9.45l-7.72 7.72c-.78.78-.78 2.05 0 2.83L4 21.41c.39.39.9.59 1.41.59.51 0 1.02-.2 1.41-.59l7.78-7.78 2.81-2.81c.8-.78.8-2.07 0-2.86zM5.41 20L4 18.59l7.72-7.72 1.47 1.35L5.41 20z\"/>\n",
              "  </svg>\n",
              "      </button>\n",
              "      \n",
              "  <style>\n",
              "    .colab-df-container {\n",
              "      display:flex;\n",
              "      flex-wrap:wrap;\n",
              "      gap: 12px;\n",
              "    }\n",
              "\n",
              "    .colab-df-convert {\n",
              "      background-color: #E8F0FE;\n",
              "      border: none;\n",
              "      border-radius: 50%;\n",
              "      cursor: pointer;\n",
              "      display: none;\n",
              "      fill: #1967D2;\n",
              "      height: 32px;\n",
              "      padding: 0 0 0 0;\n",
              "      width: 32px;\n",
              "    }\n",
              "\n",
              "    .colab-df-convert:hover {\n",
              "      background-color: #E2EBFA;\n",
              "      box-shadow: 0px 1px 2px rgba(60, 64, 67, 0.3), 0px 1px 3px 1px rgba(60, 64, 67, 0.15);\n",
              "      fill: #174EA6;\n",
              "    }\n",
              "\n",
              "    [theme=dark] .colab-df-convert {\n",
              "      background-color: #3B4455;\n",
              "      fill: #D2E3FC;\n",
              "    }\n",
              "\n",
              "    [theme=dark] .colab-df-convert:hover {\n",
              "      background-color: #434B5C;\n",
              "      box-shadow: 0px 1px 3px 1px rgba(0, 0, 0, 0.15);\n",
              "      filter: drop-shadow(0px 1px 2px rgba(0, 0, 0, 0.3));\n",
              "      fill: #FFFFFF;\n",
              "    }\n",
              "  </style>\n",
              "\n",
              "      <script>\n",
              "        const buttonEl =\n",
              "          document.querySelector('#df-ce7ca8ae-b1e9-412f-8e64-90c93dd84cae button.colab-df-convert');\n",
              "        buttonEl.style.display =\n",
              "          google.colab.kernel.accessAllowed ? 'block' : 'none';\n",
              "\n",
              "        async function convertToInteractive(key) {\n",
              "          const element = document.querySelector('#df-ce7ca8ae-b1e9-412f-8e64-90c93dd84cae');\n",
              "          const dataTable =\n",
              "            await google.colab.kernel.invokeFunction('convertToInteractive',\n",
              "                                                     [key], {});\n",
              "          if (!dataTable) return;\n",
              "\n",
              "          const docLinkHtml = 'Like what you see? Visit the ' +\n",
              "            '<a target=\"_blank\" href=https://colab.research.google.com/notebooks/data_table.ipynb>data table notebook</a>'\n",
              "            + ' to learn more about interactive tables.';\n",
              "          element.innerHTML = '';\n",
              "          dataTable['output_type'] = 'display_data';\n",
              "          await google.colab.output.renderOutput(dataTable, element);\n",
              "          const docLink = document.createElement('div');\n",
              "          docLink.innerHTML = docLinkHtml;\n",
              "          element.appendChild(docLink);\n",
              "        }\n",
              "      </script>\n",
              "    </div>\n",
              "  </div>\n",
              "  "
            ]
          },
          "metadata": {},
          "execution_count": 66
        }
      ]
    },
    {
      "cell_type": "code",
      "metadata": {
        "id": "cK4bE3uhuMne",
        "colab": {
          "base_uri": "https://localhost:8080/",
          "height": 206
        },
        "outputId": "4020e7b0-c44f-4e72-e6c3-b4c703516bed"
      },
      "source": [
        "player_stats= pd.read_excel(\"/content/Player_Attributes.xlsx\") #player attributes df\n",
        "player_stats.drop(player_stats.loc[:, 'potential':'gk_reflexes'].columns, axis = 1, inplace=True) #drop unnecesary attributes; only want overall rating\n",
        "player_stats.head()"
      ],
      "execution_count": 67,
      "outputs": [
        {
          "output_type": "execute_result",
          "data": {
            "text/plain": [
              "   id  player_fifa_api_id  player_api_id       date  overall_rating\n",
              "0   1              218353         505942 2016-02-18            67.0\n",
              "1   2              218353         505942 2015-11-19            67.0\n",
              "2   3              218353         505942 2015-09-21            62.0\n",
              "3   4              218353         505942 2015-03-20            61.0\n",
              "4   5              218353         505942 2007-02-22            61.0"
            ],
            "text/html": [
              "\n",
              "  <div id=\"df-72a5a069-d980-436f-94cb-f56d240adcd3\">\n",
              "    <div class=\"colab-df-container\">\n",
              "      <div>\n",
              "<style scoped>\n",
              "    .dataframe tbody tr th:only-of-type {\n",
              "        vertical-align: middle;\n",
              "    }\n",
              "\n",
              "    .dataframe tbody tr th {\n",
              "        vertical-align: top;\n",
              "    }\n",
              "\n",
              "    .dataframe thead th {\n",
              "        text-align: right;\n",
              "    }\n",
              "</style>\n",
              "<table border=\"1\" class=\"dataframe\">\n",
              "  <thead>\n",
              "    <tr style=\"text-align: right;\">\n",
              "      <th></th>\n",
              "      <th>id</th>\n",
              "      <th>player_fifa_api_id</th>\n",
              "      <th>player_api_id</th>\n",
              "      <th>date</th>\n",
              "      <th>overall_rating</th>\n",
              "    </tr>\n",
              "  </thead>\n",
              "  <tbody>\n",
              "    <tr>\n",
              "      <th>0</th>\n",
              "      <td>1</td>\n",
              "      <td>218353</td>\n",
              "      <td>505942</td>\n",
              "      <td>2016-02-18</td>\n",
              "      <td>67.0</td>\n",
              "    </tr>\n",
              "    <tr>\n",
              "      <th>1</th>\n",
              "      <td>2</td>\n",
              "      <td>218353</td>\n",
              "      <td>505942</td>\n",
              "      <td>2015-11-19</td>\n",
              "      <td>67.0</td>\n",
              "    </tr>\n",
              "    <tr>\n",
              "      <th>2</th>\n",
              "      <td>3</td>\n",
              "      <td>218353</td>\n",
              "      <td>505942</td>\n",
              "      <td>2015-09-21</td>\n",
              "      <td>62.0</td>\n",
              "    </tr>\n",
              "    <tr>\n",
              "      <th>3</th>\n",
              "      <td>4</td>\n",
              "      <td>218353</td>\n",
              "      <td>505942</td>\n",
              "      <td>2015-03-20</td>\n",
              "      <td>61.0</td>\n",
              "    </tr>\n",
              "    <tr>\n",
              "      <th>4</th>\n",
              "      <td>5</td>\n",
              "      <td>218353</td>\n",
              "      <td>505942</td>\n",
              "      <td>2007-02-22</td>\n",
              "      <td>61.0</td>\n",
              "    </tr>\n",
              "  </tbody>\n",
              "</table>\n",
              "</div>\n",
              "      <button class=\"colab-df-convert\" onclick=\"convertToInteractive('df-72a5a069-d980-436f-94cb-f56d240adcd3')\"\n",
              "              title=\"Convert this dataframe to an interactive table.\"\n",
              "              style=\"display:none;\">\n",
              "        \n",
              "  <svg xmlns=\"http://www.w3.org/2000/svg\" height=\"24px\"viewBox=\"0 0 24 24\"\n",
              "       width=\"24px\">\n",
              "    <path d=\"M0 0h24v24H0V0z\" fill=\"none\"/>\n",
              "    <path d=\"M18.56 5.44l.94 2.06.94-2.06 2.06-.94-2.06-.94-.94-2.06-.94 2.06-2.06.94zm-11 1L8.5 8.5l.94-2.06 2.06-.94-2.06-.94L8.5 2.5l-.94 2.06-2.06.94zm10 10l.94 2.06.94-2.06 2.06-.94-2.06-.94-.94-2.06-.94 2.06-2.06.94z\"/><path d=\"M17.41 7.96l-1.37-1.37c-.4-.4-.92-.59-1.43-.59-.52 0-1.04.2-1.43.59L10.3 9.45l-7.72 7.72c-.78.78-.78 2.05 0 2.83L4 21.41c.39.39.9.59 1.41.59.51 0 1.02-.2 1.41-.59l7.78-7.78 2.81-2.81c.8-.78.8-2.07 0-2.86zM5.41 20L4 18.59l7.72-7.72 1.47 1.35L5.41 20z\"/>\n",
              "  </svg>\n",
              "      </button>\n",
              "      \n",
              "  <style>\n",
              "    .colab-df-container {\n",
              "      display:flex;\n",
              "      flex-wrap:wrap;\n",
              "      gap: 12px;\n",
              "    }\n",
              "\n",
              "    .colab-df-convert {\n",
              "      background-color: #E8F0FE;\n",
              "      border: none;\n",
              "      border-radius: 50%;\n",
              "      cursor: pointer;\n",
              "      display: none;\n",
              "      fill: #1967D2;\n",
              "      height: 32px;\n",
              "      padding: 0 0 0 0;\n",
              "      width: 32px;\n",
              "    }\n",
              "\n",
              "    .colab-df-convert:hover {\n",
              "      background-color: #E2EBFA;\n",
              "      box-shadow: 0px 1px 2px rgba(60, 64, 67, 0.3), 0px 1px 3px 1px rgba(60, 64, 67, 0.15);\n",
              "      fill: #174EA6;\n",
              "    }\n",
              "\n",
              "    [theme=dark] .colab-df-convert {\n",
              "      background-color: #3B4455;\n",
              "      fill: #D2E3FC;\n",
              "    }\n",
              "\n",
              "    [theme=dark] .colab-df-convert:hover {\n",
              "      background-color: #434B5C;\n",
              "      box-shadow: 0px 1px 3px 1px rgba(0, 0, 0, 0.15);\n",
              "      filter: drop-shadow(0px 1px 2px rgba(0, 0, 0, 0.3));\n",
              "      fill: #FFFFFF;\n",
              "    }\n",
              "  </style>\n",
              "\n",
              "      <script>\n",
              "        const buttonEl =\n",
              "          document.querySelector('#df-72a5a069-d980-436f-94cb-f56d240adcd3 button.colab-df-convert');\n",
              "        buttonEl.style.display =\n",
              "          google.colab.kernel.accessAllowed ? 'block' : 'none';\n",
              "\n",
              "        async function convertToInteractive(key) {\n",
              "          const element = document.querySelector('#df-72a5a069-d980-436f-94cb-f56d240adcd3');\n",
              "          const dataTable =\n",
              "            await google.colab.kernel.invokeFunction('convertToInteractive',\n",
              "                                                     [key], {});\n",
              "          if (!dataTable) return;\n",
              "\n",
              "          const docLinkHtml = 'Like what you see? Visit the ' +\n",
              "            '<a target=\"_blank\" href=https://colab.research.google.com/notebooks/data_table.ipynb>data table notebook</a>'\n",
              "            + ' to learn more about interactive tables.';\n",
              "          element.innerHTML = '';\n",
              "          dataTable['output_type'] = 'display_data';\n",
              "          await google.colab.output.renderOutput(dataTable, element);\n",
              "          const docLink = document.createElement('div');\n",
              "          docLink.innerHTML = docLinkHtml;\n",
              "          element.appendChild(docLink);\n",
              "        }\n",
              "      </script>\n",
              "    </div>\n",
              "  </div>\n",
              "  "
            ]
          },
          "metadata": {},
          "execution_count": 67
        }
      ]
    },
    {
      "cell_type": "code",
      "metadata": {
        "id": "d-a2dHS635nn",
        "colab": {
          "base_uri": "https://localhost:8080/",
          "height": 386
        },
        "outputId": "bc7c9d36-378f-49d5-8455-dbe774b53fa6"
      },
      "source": [
        "match= pd.read_excel(\"/content/Match.xlsx\") #match df\n",
        "match=match.loc[(match['league_id']==1729)] #only Premier League matches\n",
        "match.drop(match.loc[:, 'goal':'BSA'].columns, axis=1, inplace=True) #drop supplemental statistics from match, such as fouls, yellow/red cards, etc.\n",
        "match.dropna(inplace=True) #drop rows with Na\n",
        "match.reset_index(inplace=True) #reset df indices\n",
        "match.head()"
      ],
      "execution_count": 68,
      "outputs": [
        {
          "output_type": "execute_result",
          "data": {
            "text/plain": [
              "   index    id  country_id  league_id     season  stage       date  \\\n",
              "0   1728  1729        1729       1729  2008/2009      1 2008-08-17   \n",
              "1   1729  1730        1729       1729  2008/2009      1 2008-08-16   \n",
              "2   1730  1731        1729       1729  2008/2009      1 2008-08-16   \n",
              "3   1731  1732        1729       1729  2008/2009      1 2008-08-16   \n",
              "4   1733  1734        1729       1729  2008/2009      1 2008-08-16   \n",
              "\n",
              "   match_api_id  home_team_api_id  away_team_api_id  ...  away_player_2  \\\n",
              "0        489042             10260             10261  ...        25518.0   \n",
              "1        489043              9825              8659  ...        36832.0   \n",
              "2        489044              8472              8650  ...        37442.0   \n",
              "3        489045              8654              8528  ...        34987.0   \n",
              "4        489047              8668              8655  ...        37764.0   \n",
              "\n",
              "   away_player_3  away_player_4  away_player_5  away_player_6  away_player_7  \\\n",
              "0        24228.0        30929.0        29581.0        38807.0        40565.0   \n",
              "1        23115.0        37280.0        24728.0        24664.0        31088.0   \n",
              "2        30617.0        24134.0       414792.0        37139.0        30618.0   \n",
              "3        35472.0       111865.0        25005.0        35327.0        25150.0   \n",
              "4        19020.0        23921.0        24136.0        30342.0        23889.0   \n",
              "\n",
              "   away_player_8  away_player_9  away_player_10  away_player_11  \n",
              "0        30360.0        33852.0         34574.0         37799.0  \n",
              "1        23257.0        24171.0         25922.0         27267.0  \n",
              "2        40701.0        24800.0         24635.0         30853.0  \n",
              "3        97988.0        41877.0        127857.0         34466.0  \n",
              "4        23916.0        23922.0         34176.0         30646.0  \n",
              "\n",
              "[5 rows x 78 columns]"
            ],
            "text/html": [
              "\n",
              "  <div id=\"df-2694f47f-0e6e-4920-9c27-94e0e2358cf8\">\n",
              "    <div class=\"colab-df-container\">\n",
              "      <div>\n",
              "<style scoped>\n",
              "    .dataframe tbody tr th:only-of-type {\n",
              "        vertical-align: middle;\n",
              "    }\n",
              "\n",
              "    .dataframe tbody tr th {\n",
              "        vertical-align: top;\n",
              "    }\n",
              "\n",
              "    .dataframe thead th {\n",
              "        text-align: right;\n",
              "    }\n",
              "</style>\n",
              "<table border=\"1\" class=\"dataframe\">\n",
              "  <thead>\n",
              "    <tr style=\"text-align: right;\">\n",
              "      <th></th>\n",
              "      <th>index</th>\n",
              "      <th>id</th>\n",
              "      <th>country_id</th>\n",
              "      <th>league_id</th>\n",
              "      <th>season</th>\n",
              "      <th>stage</th>\n",
              "      <th>date</th>\n",
              "      <th>match_api_id</th>\n",
              "      <th>home_team_api_id</th>\n",
              "      <th>away_team_api_id</th>\n",
              "      <th>...</th>\n",
              "      <th>away_player_2</th>\n",
              "      <th>away_player_3</th>\n",
              "      <th>away_player_4</th>\n",
              "      <th>away_player_5</th>\n",
              "      <th>away_player_6</th>\n",
              "      <th>away_player_7</th>\n",
              "      <th>away_player_8</th>\n",
              "      <th>away_player_9</th>\n",
              "      <th>away_player_10</th>\n",
              "      <th>away_player_11</th>\n",
              "    </tr>\n",
              "  </thead>\n",
              "  <tbody>\n",
              "    <tr>\n",
              "      <th>0</th>\n",
              "      <td>1728</td>\n",
              "      <td>1729</td>\n",
              "      <td>1729</td>\n",
              "      <td>1729</td>\n",
              "      <td>2008/2009</td>\n",
              "      <td>1</td>\n",
              "      <td>2008-08-17</td>\n",
              "      <td>489042</td>\n",
              "      <td>10260</td>\n",
              "      <td>10261</td>\n",
              "      <td>...</td>\n",
              "      <td>25518.0</td>\n",
              "      <td>24228.0</td>\n",
              "      <td>30929.0</td>\n",
              "      <td>29581.0</td>\n",
              "      <td>38807.0</td>\n",
              "      <td>40565.0</td>\n",
              "      <td>30360.0</td>\n",
              "      <td>33852.0</td>\n",
              "      <td>34574.0</td>\n",
              "      <td>37799.0</td>\n",
              "    </tr>\n",
              "    <tr>\n",
              "      <th>1</th>\n",
              "      <td>1729</td>\n",
              "      <td>1730</td>\n",
              "      <td>1729</td>\n",
              "      <td>1729</td>\n",
              "      <td>2008/2009</td>\n",
              "      <td>1</td>\n",
              "      <td>2008-08-16</td>\n",
              "      <td>489043</td>\n",
              "      <td>9825</td>\n",
              "      <td>8659</td>\n",
              "      <td>...</td>\n",
              "      <td>36832.0</td>\n",
              "      <td>23115.0</td>\n",
              "      <td>37280.0</td>\n",
              "      <td>24728.0</td>\n",
              "      <td>24664.0</td>\n",
              "      <td>31088.0</td>\n",
              "      <td>23257.0</td>\n",
              "      <td>24171.0</td>\n",
              "      <td>25922.0</td>\n",
              "      <td>27267.0</td>\n",
              "    </tr>\n",
              "    <tr>\n",
              "      <th>2</th>\n",
              "      <td>1730</td>\n",
              "      <td>1731</td>\n",
              "      <td>1729</td>\n",
              "      <td>1729</td>\n",
              "      <td>2008/2009</td>\n",
              "      <td>1</td>\n",
              "      <td>2008-08-16</td>\n",
              "      <td>489044</td>\n",
              "      <td>8472</td>\n",
              "      <td>8650</td>\n",
              "      <td>...</td>\n",
              "      <td>37442.0</td>\n",
              "      <td>30617.0</td>\n",
              "      <td>24134.0</td>\n",
              "      <td>414792.0</td>\n",
              "      <td>37139.0</td>\n",
              "      <td>30618.0</td>\n",
              "      <td>40701.0</td>\n",
              "      <td>24800.0</td>\n",
              "      <td>24635.0</td>\n",
              "      <td>30853.0</td>\n",
              "    </tr>\n",
              "    <tr>\n",
              "      <th>3</th>\n",
              "      <td>1731</td>\n",
              "      <td>1732</td>\n",
              "      <td>1729</td>\n",
              "      <td>1729</td>\n",
              "      <td>2008/2009</td>\n",
              "      <td>1</td>\n",
              "      <td>2008-08-16</td>\n",
              "      <td>489045</td>\n",
              "      <td>8654</td>\n",
              "      <td>8528</td>\n",
              "      <td>...</td>\n",
              "      <td>34987.0</td>\n",
              "      <td>35472.0</td>\n",
              "      <td>111865.0</td>\n",
              "      <td>25005.0</td>\n",
              "      <td>35327.0</td>\n",
              "      <td>25150.0</td>\n",
              "      <td>97988.0</td>\n",
              "      <td>41877.0</td>\n",
              "      <td>127857.0</td>\n",
              "      <td>34466.0</td>\n",
              "    </tr>\n",
              "    <tr>\n",
              "      <th>4</th>\n",
              "      <td>1733</td>\n",
              "      <td>1734</td>\n",
              "      <td>1729</td>\n",
              "      <td>1729</td>\n",
              "      <td>2008/2009</td>\n",
              "      <td>1</td>\n",
              "      <td>2008-08-16</td>\n",
              "      <td>489047</td>\n",
              "      <td>8668</td>\n",
              "      <td>8655</td>\n",
              "      <td>...</td>\n",
              "      <td>37764.0</td>\n",
              "      <td>19020.0</td>\n",
              "      <td>23921.0</td>\n",
              "      <td>24136.0</td>\n",
              "      <td>30342.0</td>\n",
              "      <td>23889.0</td>\n",
              "      <td>23916.0</td>\n",
              "      <td>23922.0</td>\n",
              "      <td>34176.0</td>\n",
              "      <td>30646.0</td>\n",
              "    </tr>\n",
              "  </tbody>\n",
              "</table>\n",
              "<p>5 rows × 78 columns</p>\n",
              "</div>\n",
              "      <button class=\"colab-df-convert\" onclick=\"convertToInteractive('df-2694f47f-0e6e-4920-9c27-94e0e2358cf8')\"\n",
              "              title=\"Convert this dataframe to an interactive table.\"\n",
              "              style=\"display:none;\">\n",
              "        \n",
              "  <svg xmlns=\"http://www.w3.org/2000/svg\" height=\"24px\"viewBox=\"0 0 24 24\"\n",
              "       width=\"24px\">\n",
              "    <path d=\"M0 0h24v24H0V0z\" fill=\"none\"/>\n",
              "    <path d=\"M18.56 5.44l.94 2.06.94-2.06 2.06-.94-2.06-.94-.94-2.06-.94 2.06-2.06.94zm-11 1L8.5 8.5l.94-2.06 2.06-.94-2.06-.94L8.5 2.5l-.94 2.06-2.06.94zm10 10l.94 2.06.94-2.06 2.06-.94-2.06-.94-.94-2.06-.94 2.06-2.06.94z\"/><path d=\"M17.41 7.96l-1.37-1.37c-.4-.4-.92-.59-1.43-.59-.52 0-1.04.2-1.43.59L10.3 9.45l-7.72 7.72c-.78.78-.78 2.05 0 2.83L4 21.41c.39.39.9.59 1.41.59.51 0 1.02-.2 1.41-.59l7.78-7.78 2.81-2.81c.8-.78.8-2.07 0-2.86zM5.41 20L4 18.59l7.72-7.72 1.47 1.35L5.41 20z\"/>\n",
              "  </svg>\n",
              "      </button>\n",
              "      \n",
              "  <style>\n",
              "    .colab-df-container {\n",
              "      display:flex;\n",
              "      flex-wrap:wrap;\n",
              "      gap: 12px;\n",
              "    }\n",
              "\n",
              "    .colab-df-convert {\n",
              "      background-color: #E8F0FE;\n",
              "      border: none;\n",
              "      border-radius: 50%;\n",
              "      cursor: pointer;\n",
              "      display: none;\n",
              "      fill: #1967D2;\n",
              "      height: 32px;\n",
              "      padding: 0 0 0 0;\n",
              "      width: 32px;\n",
              "    }\n",
              "\n",
              "    .colab-df-convert:hover {\n",
              "      background-color: #E2EBFA;\n",
              "      box-shadow: 0px 1px 2px rgba(60, 64, 67, 0.3), 0px 1px 3px 1px rgba(60, 64, 67, 0.15);\n",
              "      fill: #174EA6;\n",
              "    }\n",
              "\n",
              "    [theme=dark] .colab-df-convert {\n",
              "      background-color: #3B4455;\n",
              "      fill: #D2E3FC;\n",
              "    }\n",
              "\n",
              "    [theme=dark] .colab-df-convert:hover {\n",
              "      background-color: #434B5C;\n",
              "      box-shadow: 0px 1px 3px 1px rgba(0, 0, 0, 0.15);\n",
              "      filter: drop-shadow(0px 1px 2px rgba(0, 0, 0, 0.3));\n",
              "      fill: #FFFFFF;\n",
              "    }\n",
              "  </style>\n",
              "\n",
              "      <script>\n",
              "        const buttonEl =\n",
              "          document.querySelector('#df-2694f47f-0e6e-4920-9c27-94e0e2358cf8 button.colab-df-convert');\n",
              "        buttonEl.style.display =\n",
              "          google.colab.kernel.accessAllowed ? 'block' : 'none';\n",
              "\n",
              "        async function convertToInteractive(key) {\n",
              "          const element = document.querySelector('#df-2694f47f-0e6e-4920-9c27-94e0e2358cf8');\n",
              "          const dataTable =\n",
              "            await google.colab.kernel.invokeFunction('convertToInteractive',\n",
              "                                                     [key], {});\n",
              "          if (!dataTable) return;\n",
              "\n",
              "          const docLinkHtml = 'Like what you see? Visit the ' +\n",
              "            '<a target=\"_blank\" href=https://colab.research.google.com/notebooks/data_table.ipynb>data table notebook</a>'\n",
              "            + ' to learn more about interactive tables.';\n",
              "          element.innerHTML = '';\n",
              "          dataTable['output_type'] = 'display_data';\n",
              "          await google.colab.output.renderOutput(dataTable, element);\n",
              "          const docLink = document.createElement('div');\n",
              "          docLink.innerHTML = docLinkHtml;\n",
              "          element.appendChild(docLink);\n",
              "        }\n",
              "      </script>\n",
              "    </div>\n",
              "  </div>\n",
              "  "
            ]
          },
          "metadata": {},
          "execution_count": 68
        }
      ]
    },
    {
      "cell_type": "code",
      "metadata": {
        "id": "wPPu7Wsji0JJ",
        "colab": {
          "base_uri": "https://localhost:8080/"
        },
        "outputId": "519597dc-d96f-4a23-d950-f16ca13c99c1"
      },
      "source": [
        "match.shape[0] # number of matches"
      ],
      "execution_count": 69,
      "outputs": [
        {
          "output_type": "execute_result",
          "data": {
            "text/plain": [
              "2962"
            ]
          },
          "metadata": {},
          "execution_count": 69
        }
      ]
    },
    {
      "cell_type": "code",
      "metadata": {
        "id": "bj4TYxafZviR"
      },
      "source": [
        "match['date']=match['date'].astype('datetime64[D]').values #convert date column from <M8[ns] to datetime64[ns]\n",
        "player_stats['date']=player_stats['date'].astype('datetime64[D]').values #convert date column from <M8[ns] to datetime64[ns]\n",
        "def getRating(r,c): #get rating function\n",
        "  x=match.iloc[r,c] #which player to get rating of in a specific match\n",
        "  y=player_stats.loc[(player_stats['player_api_id']==x)] #get all ratings of selected player\n",
        "  y=y.loc[y['date']<match.at[r,'date']] #keep ratings given prior to match date\n",
        "  z=min(abs(y['date']-match.at[r,'date'])).days #find closest rating date prior to match date\n",
        "  y=y.loc[abs(y['date']-match.at[r,'date']).astype('timedelta64[D]')==z] #choose newest rating prior to match date\n",
        "  y.reset_index(inplace=True) #reset index\n",
        "  return y.loc[0,'overall_rating'] #return rating column"
      ],
      "execution_count": 70,
      "outputs": []
    },
    {
      "cell_type": "code",
      "metadata": {
        "id": "qS_hqE6d-2b4"
      },
      "source": [
        "def getHWidth(k): #get home team widths function \n",
        "  section=list() \n",
        "  diff=list() \n",
        "  i=0 \n",
        "  j=0 \n",
        "  mylist = list(match.iloc[k,[13,14,15,16,17,18,19,20,21,22]]) #list of home player X coordinates from specified row, excluding GK  \n",
        "  for i in range(0, len(mylist)-1): \n",
        "    while j<len(mylist)-1 and mylist[j]<mylist[j+1]: \n",
        "      section.append(mylist[j])\n",
        "      j+=1 \n",
        "      i=j\n",
        "    section.append(mylist[j])\n",
        "    diff.append(max(section)-min(section))\n",
        "    section.clear()\n",
        "    if j==9:\n",
        "     break\n",
        "    j+=1\n",
        "    i+=1 \n",
        "  diff = [1.0 if x == 0 else x for x in diff] #if only one player in section, width=0, so make width=1\n",
        "  return diff #returns list of sectional widths "
      ],
      "execution_count": 71,
      "outputs": []
    },
    {
      "cell_type": "code",
      "metadata": {
        "id": "f4SwmmRr45IU",
        "colab": {
          "base_uri": "https://localhost:8080/"
        },
        "outputId": "1e3f9ad1-4ffe-4f6f-c29d-b251b25b3e2f"
      },
      "source": [
        "getHWidth(0)"
      ],
      "execution_count": 72,
      "outputs": [
        {
          "output_type": "execute_result",
          "data": {
            "text/plain": [
              "[6.0, 6.0, 2.0]"
            ]
          },
          "metadata": {},
          "execution_count": 72
        }
      ]
    },
    {
      "cell_type": "code",
      "metadata": {
        "id": "T0AHWXH8HJOn"
      },
      "source": [
        "def getAWidth(k):#get away team widths function \n",
        "  section=list() \n",
        "  diff=list() \n",
        "  i=0 \n",
        "  j=0 \n",
        "  mylist = list(match.iloc[k,[24,25,26,27,28,29,30,31,32,33]]) #list of away player X coordinates from specified row, excluding GK \n",
        "  #print(mylist) \n",
        "  for i in range(0, len(mylist)-1): \n",
        "    while j<len(mylist)-1 and mylist[j]<mylist[j+1]: \n",
        "      section.append(mylist[j])\n",
        "      j+=1 \n",
        "      i=j\n",
        "    section.append(mylist[j])\n",
        "    diff.append(max(section)-min(section))\n",
        "    section.clear()\n",
        "    if j==9:\n",
        "     break\n",
        "    j+=1\n",
        "    i+=1 \n",
        "  diff = [1.0 if x == 0 else x for x in diff] #if only one player in section, width=0, so make width=1\n",
        "  return diff #returns list of sectional widths "
      ],
      "execution_count": 73,
      "outputs": []
    },
    {
      "cell_type": "code",
      "metadata": {
        "id": "Agu6Cd3WORxB"
      },
      "source": [
        "def getHDepth(j): #get home team depth function\n",
        "  x=\"\"\n",
        "  i=0\n",
        "  mylist = list(match.iloc[j,[35,36,37,38,39,40,41,42,43,44]]) #list of home player Y coordinates from specified row, excluding GK\n",
        "  myset = set(mylist) #set of home player Y coordinates, excluding GK\n",
        "  myset=sorted(myset) #set sorted in ascending order\n",
        "  while i<len(myset): #go through each index in myset\n",
        "    x+=str(mylist.count(myset[i])) #count number of times each index in myset appears in mylist to get formation\n",
        "    i+=1\n",
        "  return len(x) #return depth of formation, which is number of sections"
      ],
      "execution_count": 74,
      "outputs": []
    },
    {
      "cell_type": "code",
      "metadata": {
        "id": "NGjntRHAkags",
        "colab": {
          "base_uri": "https://localhost:8080/"
        },
        "outputId": "4278a7b4-4087-44b8-d712-d691959d34a9"
      },
      "source": [
        "getHDepth(0)"
      ],
      "execution_count": 75,
      "outputs": [
        {
          "output_type": "execute_result",
          "data": {
            "text/plain": [
              "3"
            ]
          },
          "metadata": {},
          "execution_count": 75
        }
      ]
    },
    {
      "cell_type": "code",
      "metadata": {
        "id": "czZ-BJU5tc97"
      },
      "source": [
        "def getADepth(j):# get away team depth function\n",
        "  x=\"\"\n",
        "  i=0\n",
        "  mylist = list(match.iloc[j,[46,47,48,49,50,51,52,53,54,55]]) #list of away player Y coordinates from specified row, excluding GK\n",
        "  myset = set(mylist) #set of away player Y coordinates, excluding GK\n",
        "  myset=sorted(myset) #set sorted in ascending order\n",
        "  while i<len(myset): #go through each index in myset\n",
        "    x+=str(mylist.count(myset[i])) #count number of times each index in myset appears in mylist to get formation\n",
        "    i+=1\n",
        "  return len(x) #return depth of formation, which is number of sections"
      ],
      "execution_count": 76,
      "outputs": []
    },
    {
      "cell_type": "code",
      "metadata": {
        "id": "eJpLqTBPWxWq",
        "colab": {
          "base_uri": "https://localhost:8080/",
          "height": 235
        },
        "outputId": "e8080e1f-7437-44b9-965f-f025801e1a16"
      },
      "source": [
        "column_names = [\"GK\",\"D1\",\"D2\",\"D3\",\"D4\",\"D5\",\"D6\",\"M1\",\"M2\",\"M3\",\"M4\",\"M5\",\"M6\",\"M7\",\"F1\",\"F2\",\"F3\",\"F4\",\n",
        "                \"AGK\",\"AD1\",\"AD2\",\"AD3\",\"AD4\",\"AD5\",\"AD6\",\"AM1\",\"AM2\",\"AM3\",\"AM4\",\"AM5\",\"AM6\",\"AM7\",\"AF1\",\"AF2\",\"AF3\",\"AF4\"]\n",
        "df = pd.DataFrame(index=range(2962),columns=range(36)) #df for player ratings at each position for each match  \n",
        "df.columns=column_names\n",
        "df.head()"
      ],
      "execution_count": 77,
      "outputs": [
        {
          "output_type": "execute_result",
          "data": {
            "text/plain": [
              "    GK   D1   D2   D3   D4   D5   D6   M1   M2   M3  ...  AM2  AM3  AM4  AM5  \\\n",
              "0  NaN  NaN  NaN  NaN  NaN  NaN  NaN  NaN  NaN  NaN  ...  NaN  NaN  NaN  NaN   \n",
              "1  NaN  NaN  NaN  NaN  NaN  NaN  NaN  NaN  NaN  NaN  ...  NaN  NaN  NaN  NaN   \n",
              "2  NaN  NaN  NaN  NaN  NaN  NaN  NaN  NaN  NaN  NaN  ...  NaN  NaN  NaN  NaN   \n",
              "3  NaN  NaN  NaN  NaN  NaN  NaN  NaN  NaN  NaN  NaN  ...  NaN  NaN  NaN  NaN   \n",
              "4  NaN  NaN  NaN  NaN  NaN  NaN  NaN  NaN  NaN  NaN  ...  NaN  NaN  NaN  NaN   \n",
              "\n",
              "   AM6  AM7  AF1  AF2  AF3  AF4  \n",
              "0  NaN  NaN  NaN  NaN  NaN  NaN  \n",
              "1  NaN  NaN  NaN  NaN  NaN  NaN  \n",
              "2  NaN  NaN  NaN  NaN  NaN  NaN  \n",
              "3  NaN  NaN  NaN  NaN  NaN  NaN  \n",
              "4  NaN  NaN  NaN  NaN  NaN  NaN  \n",
              "\n",
              "[5 rows x 36 columns]"
            ],
            "text/html": [
              "\n",
              "  <div id=\"df-7a9c2478-fc76-40bc-825e-a18691e6ee47\">\n",
              "    <div class=\"colab-df-container\">\n",
              "      <div>\n",
              "<style scoped>\n",
              "    .dataframe tbody tr th:only-of-type {\n",
              "        vertical-align: middle;\n",
              "    }\n",
              "\n",
              "    .dataframe tbody tr th {\n",
              "        vertical-align: top;\n",
              "    }\n",
              "\n",
              "    .dataframe thead th {\n",
              "        text-align: right;\n",
              "    }\n",
              "</style>\n",
              "<table border=\"1\" class=\"dataframe\">\n",
              "  <thead>\n",
              "    <tr style=\"text-align: right;\">\n",
              "      <th></th>\n",
              "      <th>GK</th>\n",
              "      <th>D1</th>\n",
              "      <th>D2</th>\n",
              "      <th>D3</th>\n",
              "      <th>D4</th>\n",
              "      <th>D5</th>\n",
              "      <th>D6</th>\n",
              "      <th>M1</th>\n",
              "      <th>M2</th>\n",
              "      <th>M3</th>\n",
              "      <th>...</th>\n",
              "      <th>AM2</th>\n",
              "      <th>AM3</th>\n",
              "      <th>AM4</th>\n",
              "      <th>AM5</th>\n",
              "      <th>AM6</th>\n",
              "      <th>AM7</th>\n",
              "      <th>AF1</th>\n",
              "      <th>AF2</th>\n",
              "      <th>AF3</th>\n",
              "      <th>AF4</th>\n",
              "    </tr>\n",
              "  </thead>\n",
              "  <tbody>\n",
              "    <tr>\n",
              "      <th>0</th>\n",
              "      <td>NaN</td>\n",
              "      <td>NaN</td>\n",
              "      <td>NaN</td>\n",
              "      <td>NaN</td>\n",
              "      <td>NaN</td>\n",
              "      <td>NaN</td>\n",
              "      <td>NaN</td>\n",
              "      <td>NaN</td>\n",
              "      <td>NaN</td>\n",
              "      <td>NaN</td>\n",
              "      <td>...</td>\n",
              "      <td>NaN</td>\n",
              "      <td>NaN</td>\n",
              "      <td>NaN</td>\n",
              "      <td>NaN</td>\n",
              "      <td>NaN</td>\n",
              "      <td>NaN</td>\n",
              "      <td>NaN</td>\n",
              "      <td>NaN</td>\n",
              "      <td>NaN</td>\n",
              "      <td>NaN</td>\n",
              "    </tr>\n",
              "    <tr>\n",
              "      <th>1</th>\n",
              "      <td>NaN</td>\n",
              "      <td>NaN</td>\n",
              "      <td>NaN</td>\n",
              "      <td>NaN</td>\n",
              "      <td>NaN</td>\n",
              "      <td>NaN</td>\n",
              "      <td>NaN</td>\n",
              "      <td>NaN</td>\n",
              "      <td>NaN</td>\n",
              "      <td>NaN</td>\n",
              "      <td>...</td>\n",
              "      <td>NaN</td>\n",
              "      <td>NaN</td>\n",
              "      <td>NaN</td>\n",
              "      <td>NaN</td>\n",
              "      <td>NaN</td>\n",
              "      <td>NaN</td>\n",
              "      <td>NaN</td>\n",
              "      <td>NaN</td>\n",
              "      <td>NaN</td>\n",
              "      <td>NaN</td>\n",
              "    </tr>\n",
              "    <tr>\n",
              "      <th>2</th>\n",
              "      <td>NaN</td>\n",
              "      <td>NaN</td>\n",
              "      <td>NaN</td>\n",
              "      <td>NaN</td>\n",
              "      <td>NaN</td>\n",
              "      <td>NaN</td>\n",
              "      <td>NaN</td>\n",
              "      <td>NaN</td>\n",
              "      <td>NaN</td>\n",
              "      <td>NaN</td>\n",
              "      <td>...</td>\n",
              "      <td>NaN</td>\n",
              "      <td>NaN</td>\n",
              "      <td>NaN</td>\n",
              "      <td>NaN</td>\n",
              "      <td>NaN</td>\n",
              "      <td>NaN</td>\n",
              "      <td>NaN</td>\n",
              "      <td>NaN</td>\n",
              "      <td>NaN</td>\n",
              "      <td>NaN</td>\n",
              "    </tr>\n",
              "    <tr>\n",
              "      <th>3</th>\n",
              "      <td>NaN</td>\n",
              "      <td>NaN</td>\n",
              "      <td>NaN</td>\n",
              "      <td>NaN</td>\n",
              "      <td>NaN</td>\n",
              "      <td>NaN</td>\n",
              "      <td>NaN</td>\n",
              "      <td>NaN</td>\n",
              "      <td>NaN</td>\n",
              "      <td>NaN</td>\n",
              "      <td>...</td>\n",
              "      <td>NaN</td>\n",
              "      <td>NaN</td>\n",
              "      <td>NaN</td>\n",
              "      <td>NaN</td>\n",
              "      <td>NaN</td>\n",
              "      <td>NaN</td>\n",
              "      <td>NaN</td>\n",
              "      <td>NaN</td>\n",
              "      <td>NaN</td>\n",
              "      <td>NaN</td>\n",
              "    </tr>\n",
              "    <tr>\n",
              "      <th>4</th>\n",
              "      <td>NaN</td>\n",
              "      <td>NaN</td>\n",
              "      <td>NaN</td>\n",
              "      <td>NaN</td>\n",
              "      <td>NaN</td>\n",
              "      <td>NaN</td>\n",
              "      <td>NaN</td>\n",
              "      <td>NaN</td>\n",
              "      <td>NaN</td>\n",
              "      <td>NaN</td>\n",
              "      <td>...</td>\n",
              "      <td>NaN</td>\n",
              "      <td>NaN</td>\n",
              "      <td>NaN</td>\n",
              "      <td>NaN</td>\n",
              "      <td>NaN</td>\n",
              "      <td>NaN</td>\n",
              "      <td>NaN</td>\n",
              "      <td>NaN</td>\n",
              "      <td>NaN</td>\n",
              "      <td>NaN</td>\n",
              "    </tr>\n",
              "  </tbody>\n",
              "</table>\n",
              "<p>5 rows × 36 columns</p>\n",
              "</div>\n",
              "      <button class=\"colab-df-convert\" onclick=\"convertToInteractive('df-7a9c2478-fc76-40bc-825e-a18691e6ee47')\"\n",
              "              title=\"Convert this dataframe to an interactive table.\"\n",
              "              style=\"display:none;\">\n",
              "        \n",
              "  <svg xmlns=\"http://www.w3.org/2000/svg\" height=\"24px\"viewBox=\"0 0 24 24\"\n",
              "       width=\"24px\">\n",
              "    <path d=\"M0 0h24v24H0V0z\" fill=\"none\"/>\n",
              "    <path d=\"M18.56 5.44l.94 2.06.94-2.06 2.06-.94-2.06-.94-.94-2.06-.94 2.06-2.06.94zm-11 1L8.5 8.5l.94-2.06 2.06-.94-2.06-.94L8.5 2.5l-.94 2.06-2.06.94zm10 10l.94 2.06.94-2.06 2.06-.94-2.06-.94-.94-2.06-.94 2.06-2.06.94z\"/><path d=\"M17.41 7.96l-1.37-1.37c-.4-.4-.92-.59-1.43-.59-.52 0-1.04.2-1.43.59L10.3 9.45l-7.72 7.72c-.78.78-.78 2.05 0 2.83L4 21.41c.39.39.9.59 1.41.59.51 0 1.02-.2 1.41-.59l7.78-7.78 2.81-2.81c.8-.78.8-2.07 0-2.86zM5.41 20L4 18.59l7.72-7.72 1.47 1.35L5.41 20z\"/>\n",
              "  </svg>\n",
              "      </button>\n",
              "      \n",
              "  <style>\n",
              "    .colab-df-container {\n",
              "      display:flex;\n",
              "      flex-wrap:wrap;\n",
              "      gap: 12px;\n",
              "    }\n",
              "\n",
              "    .colab-df-convert {\n",
              "      background-color: #E8F0FE;\n",
              "      border: none;\n",
              "      border-radius: 50%;\n",
              "      cursor: pointer;\n",
              "      display: none;\n",
              "      fill: #1967D2;\n",
              "      height: 32px;\n",
              "      padding: 0 0 0 0;\n",
              "      width: 32px;\n",
              "    }\n",
              "\n",
              "    .colab-df-convert:hover {\n",
              "      background-color: #E2EBFA;\n",
              "      box-shadow: 0px 1px 2px rgba(60, 64, 67, 0.3), 0px 1px 3px 1px rgba(60, 64, 67, 0.15);\n",
              "      fill: #174EA6;\n",
              "    }\n",
              "\n",
              "    [theme=dark] .colab-df-convert {\n",
              "      background-color: #3B4455;\n",
              "      fill: #D2E3FC;\n",
              "    }\n",
              "\n",
              "    [theme=dark] .colab-df-convert:hover {\n",
              "      background-color: #434B5C;\n",
              "      box-shadow: 0px 1px 3px 1px rgba(0, 0, 0, 0.15);\n",
              "      filter: drop-shadow(0px 1px 2px rgba(0, 0, 0, 0.3));\n",
              "      fill: #FFFFFF;\n",
              "    }\n",
              "  </style>\n",
              "\n",
              "      <script>\n",
              "        const buttonEl =\n",
              "          document.querySelector('#df-7a9c2478-fc76-40bc-825e-a18691e6ee47 button.colab-df-convert');\n",
              "        buttonEl.style.display =\n",
              "          google.colab.kernel.accessAllowed ? 'block' : 'none';\n",
              "\n",
              "        async function convertToInteractive(key) {\n",
              "          const element = document.querySelector('#df-7a9c2478-fc76-40bc-825e-a18691e6ee47');\n",
              "          const dataTable =\n",
              "            await google.colab.kernel.invokeFunction('convertToInteractive',\n",
              "                                                     [key], {});\n",
              "          if (!dataTable) return;\n",
              "\n",
              "          const docLinkHtml = 'Like what you see? Visit the ' +\n",
              "            '<a target=\"_blank\" href=https://colab.research.google.com/notebooks/data_table.ipynb>data table notebook</a>'\n",
              "            + ' to learn more about interactive tables.';\n",
              "          element.innerHTML = '';\n",
              "          dataTable['output_type'] = 'display_data';\n",
              "          await google.colab.output.renderOutput(dataTable, element);\n",
              "          const docLink = document.createElement('div');\n",
              "          docLink.innerHTML = docLinkHtml;\n",
              "          element.appendChild(docLink);\n",
              "        }\n",
              "      </script>\n",
              "    </div>\n",
              "  </div>\n",
              "  "
            ]
          },
          "metadata": {},
          "execution_count": 77
        }
      ]
    },
    {
      "cell_type": "code",
      "metadata": {
        "id": "S8X48Yp-Gr5U"
      },
      "source": [
        "i=0\n",
        "while i<2962: #go through every match\n",
        "  j=35 #column to start at for homeplayer ids\n",
        "  d=1  #column to start inserting defender ratings in df (column D1)\n",
        "  m=7  #column to start inserting midfielder ratings in df (column M1)\n",
        "  f=14 #column to start inserting forward ratings in df (column F1)\n",
        "  mylist = list(match.iloc[i,[35,36,37,38,39,40,41,42,43,44]]) #list of home player Y coordinates from specified row, excluding GK\n",
        "  myset = set(mylist) #set of home player Y coordinates, excluding GK\n",
        "  while j<45: #go through each home player id column\n",
        "    if(match.iloc[i,j]==min(myset)): #if minimum Y, then player is a defender\n",
        "      df.iloc[i,d]=getRating(i,j+22) #add rating to df\n",
        "      d+=1 #increment to next defender column in df\n",
        "    if(match.iloc[i,j]==max(myset)): #if maximum Y, then player is a forward\n",
        "      df.iloc[i,f]=getRating(i,j+22) #add rating to df\n",
        "      f+=1 #increment to next forward column in df\n",
        "    elif((match.iloc[i,j]!=min(myset))&(match.iloc[i,j]!=max(myset))): #if neither, then player is a midfielder\n",
        "      df.iloc[i,m]=getRating(i,j+22) #add rating to df\n",
        "      m+=1 #increment to next midfielder column in df\n",
        "    j+=1\n",
        "  df.iloc[i,0]=getRating(i,56) #add GK rating to df\n",
        "  i+=1"
      ],
      "execution_count": 78,
      "outputs": []
    },
    {
      "cell_type": "code",
      "metadata": {
        "id": "d4xT5kV8aIpz"
      },
      "source": [
        "i=0\n",
        "while i<2962: #go through every match\n",
        "  j=46 #column to start at for away player ids\n",
        "  d=19 #column to start inserting defender ratings in df (column AD1)\n",
        "  m=25 #column to start inserting midfielder ratings in df (column AM1)\n",
        "  f=32 #column to start inserting forward ratings in df (column AF1)\n",
        "  mylist = list(match.iloc[i,[46,47,48,49,50,51,52,53,54,55]]) #list of away player Y coordinates from specified row, excluding GK\n",
        "  myset = set(mylist) #set of home player Y coordinates, excluding GK\n",
        "  while j<56: #go through each away player id column\n",
        "    if(match.iloc[i,j]==min(myset)): #if minimum Y, then player is a defender\n",
        "      df.iloc[i,d]=getRating(i,j+22) #add rating to df\n",
        "      d+=1 #increment to next defender column in df\n",
        "    if(match.iloc[i,j]==max(myset)): #if maximum Y, then player is a forward\n",
        "      df.iloc[i,f]=getRating(i,j+22) #add rating to df\n",
        "      f+=1 #increment to next forward column in df\n",
        "    elif((match.iloc[i,j]!=min(myset))&(match.iloc[i,j]!=max(myset))): #if neither, then player is a midfielder\n",
        "      df.iloc[i,m]=getRating(i,j+22) #add rating to df\n",
        "      m+=1 #increment to next midfielder column in df\n",
        "    j+=1\n",
        "  df.iloc[i,18]=getRating(i,67) #add GK rating to df\n",
        "  i+=1"
      ],
      "execution_count": 79,
      "outputs": []
    },
    {
      "cell_type": "code",
      "metadata": {
        "id": "r0vPBxr_Xq68",
        "colab": {
          "base_uri": "https://localhost:8080/",
          "height": 235
        },
        "outputId": "e9c7af93-6bad-47de-b630-c99151c481e3"
      },
      "source": [
        "df.head()"
      ],
      "execution_count": 80,
      "outputs": [
        {
          "output_type": "execute_result",
          "data": {
            "text/plain": [
              "     GK    D1    D2    D3    D4   D5   D6    M1    M2    M3  ...   AM2   AM3  \\\n",
              "0  85.0  79.0  88.0  85.0  78.0  NaN  NaN  74.0  83.0  85.0  ...  56.0  69.0   \n",
              "1  75.0  76.0  85.0  74.0  77.0  NaN  NaN  72.0  79.0  75.0  ...  71.0  73.0   \n",
              "2  78.0  80.0  71.0  61.0  66.0  NaN  NaN  79.0  78.0  75.0  ...  89.0  70.0   \n",
              "3  77.0  79.0  79.0  75.0  77.0  NaN  NaN  77.0  72.0  82.0  ...  71.0  67.0   \n",
              "4  79.0  78.0  80.0  79.0  72.0  NaN  NaN  82.0  72.0  73.0  ...  75.0  85.0   \n",
              "\n",
              "    AM4   AM5  AM6  AM7   AF1   AF2  AF3  AF4  \n",
              "0  75.0  76.0  NaN  NaN  83.0   NaN  NaN  NaN  \n",
              "1  72.0  74.0  NaN  NaN  68.0   NaN  NaN  NaN  \n",
              "2  80.0   NaN  NaN  NaN  84.0  87.0  NaN  NaN  \n",
              "3  79.0   NaN  NaN  NaN  71.0  77.0  NaN  NaN  \n",
              "4  77.0   NaN  NaN  NaN  76.0  79.0  NaN  NaN  \n",
              "\n",
              "[5 rows x 36 columns]"
            ],
            "text/html": [
              "\n",
              "  <div id=\"df-5769c362-8537-4b81-8077-3af21cae2756\">\n",
              "    <div class=\"colab-df-container\">\n",
              "      <div>\n",
              "<style scoped>\n",
              "    .dataframe tbody tr th:only-of-type {\n",
              "        vertical-align: middle;\n",
              "    }\n",
              "\n",
              "    .dataframe tbody tr th {\n",
              "        vertical-align: top;\n",
              "    }\n",
              "\n",
              "    .dataframe thead th {\n",
              "        text-align: right;\n",
              "    }\n",
              "</style>\n",
              "<table border=\"1\" class=\"dataframe\">\n",
              "  <thead>\n",
              "    <tr style=\"text-align: right;\">\n",
              "      <th></th>\n",
              "      <th>GK</th>\n",
              "      <th>D1</th>\n",
              "      <th>D2</th>\n",
              "      <th>D3</th>\n",
              "      <th>D4</th>\n",
              "      <th>D5</th>\n",
              "      <th>D6</th>\n",
              "      <th>M1</th>\n",
              "      <th>M2</th>\n",
              "      <th>M3</th>\n",
              "      <th>...</th>\n",
              "      <th>AM2</th>\n",
              "      <th>AM3</th>\n",
              "      <th>AM4</th>\n",
              "      <th>AM5</th>\n",
              "      <th>AM6</th>\n",
              "      <th>AM7</th>\n",
              "      <th>AF1</th>\n",
              "      <th>AF2</th>\n",
              "      <th>AF3</th>\n",
              "      <th>AF4</th>\n",
              "    </tr>\n",
              "  </thead>\n",
              "  <tbody>\n",
              "    <tr>\n",
              "      <th>0</th>\n",
              "      <td>85.0</td>\n",
              "      <td>79.0</td>\n",
              "      <td>88.0</td>\n",
              "      <td>85.0</td>\n",
              "      <td>78.0</td>\n",
              "      <td>NaN</td>\n",
              "      <td>NaN</td>\n",
              "      <td>74.0</td>\n",
              "      <td>83.0</td>\n",
              "      <td>85.0</td>\n",
              "      <td>...</td>\n",
              "      <td>56.0</td>\n",
              "      <td>69.0</td>\n",
              "      <td>75.0</td>\n",
              "      <td>76.0</td>\n",
              "      <td>NaN</td>\n",
              "      <td>NaN</td>\n",
              "      <td>83.0</td>\n",
              "      <td>NaN</td>\n",
              "      <td>NaN</td>\n",
              "      <td>NaN</td>\n",
              "    </tr>\n",
              "    <tr>\n",
              "      <th>1</th>\n",
              "      <td>75.0</td>\n",
              "      <td>76.0</td>\n",
              "      <td>85.0</td>\n",
              "      <td>74.0</td>\n",
              "      <td>77.0</td>\n",
              "      <td>NaN</td>\n",
              "      <td>NaN</td>\n",
              "      <td>72.0</td>\n",
              "      <td>79.0</td>\n",
              "      <td>75.0</td>\n",
              "      <td>...</td>\n",
              "      <td>71.0</td>\n",
              "      <td>73.0</td>\n",
              "      <td>72.0</td>\n",
              "      <td>74.0</td>\n",
              "      <td>NaN</td>\n",
              "      <td>NaN</td>\n",
              "      <td>68.0</td>\n",
              "      <td>NaN</td>\n",
              "      <td>NaN</td>\n",
              "      <td>NaN</td>\n",
              "    </tr>\n",
              "    <tr>\n",
              "      <th>2</th>\n",
              "      <td>78.0</td>\n",
              "      <td>80.0</td>\n",
              "      <td>71.0</td>\n",
              "      <td>61.0</td>\n",
              "      <td>66.0</td>\n",
              "      <td>NaN</td>\n",
              "      <td>NaN</td>\n",
              "      <td>79.0</td>\n",
              "      <td>78.0</td>\n",
              "      <td>75.0</td>\n",
              "      <td>...</td>\n",
              "      <td>89.0</td>\n",
              "      <td>70.0</td>\n",
              "      <td>80.0</td>\n",
              "      <td>NaN</td>\n",
              "      <td>NaN</td>\n",
              "      <td>NaN</td>\n",
              "      <td>84.0</td>\n",
              "      <td>87.0</td>\n",
              "      <td>NaN</td>\n",
              "      <td>NaN</td>\n",
              "    </tr>\n",
              "    <tr>\n",
              "      <th>3</th>\n",
              "      <td>77.0</td>\n",
              "      <td>79.0</td>\n",
              "      <td>79.0</td>\n",
              "      <td>75.0</td>\n",
              "      <td>77.0</td>\n",
              "      <td>NaN</td>\n",
              "      <td>NaN</td>\n",
              "      <td>77.0</td>\n",
              "      <td>72.0</td>\n",
              "      <td>82.0</td>\n",
              "      <td>...</td>\n",
              "      <td>71.0</td>\n",
              "      <td>67.0</td>\n",
              "      <td>79.0</td>\n",
              "      <td>NaN</td>\n",
              "      <td>NaN</td>\n",
              "      <td>NaN</td>\n",
              "      <td>71.0</td>\n",
              "      <td>77.0</td>\n",
              "      <td>NaN</td>\n",
              "      <td>NaN</td>\n",
              "    </tr>\n",
              "    <tr>\n",
              "      <th>4</th>\n",
              "      <td>79.0</td>\n",
              "      <td>78.0</td>\n",
              "      <td>80.0</td>\n",
              "      <td>79.0</td>\n",
              "      <td>72.0</td>\n",
              "      <td>NaN</td>\n",
              "      <td>NaN</td>\n",
              "      <td>82.0</td>\n",
              "      <td>72.0</td>\n",
              "      <td>73.0</td>\n",
              "      <td>...</td>\n",
              "      <td>75.0</td>\n",
              "      <td>85.0</td>\n",
              "      <td>77.0</td>\n",
              "      <td>NaN</td>\n",
              "      <td>NaN</td>\n",
              "      <td>NaN</td>\n",
              "      <td>76.0</td>\n",
              "      <td>79.0</td>\n",
              "      <td>NaN</td>\n",
              "      <td>NaN</td>\n",
              "    </tr>\n",
              "  </tbody>\n",
              "</table>\n",
              "<p>5 rows × 36 columns</p>\n",
              "</div>\n",
              "      <button class=\"colab-df-convert\" onclick=\"convertToInteractive('df-5769c362-8537-4b81-8077-3af21cae2756')\"\n",
              "              title=\"Convert this dataframe to an interactive table.\"\n",
              "              style=\"display:none;\">\n",
              "        \n",
              "  <svg xmlns=\"http://www.w3.org/2000/svg\" height=\"24px\"viewBox=\"0 0 24 24\"\n",
              "       width=\"24px\">\n",
              "    <path d=\"M0 0h24v24H0V0z\" fill=\"none\"/>\n",
              "    <path d=\"M18.56 5.44l.94 2.06.94-2.06 2.06-.94-2.06-.94-.94-2.06-.94 2.06-2.06.94zm-11 1L8.5 8.5l.94-2.06 2.06-.94-2.06-.94L8.5 2.5l-.94 2.06-2.06.94zm10 10l.94 2.06.94-2.06 2.06-.94-2.06-.94-.94-2.06-.94 2.06-2.06.94z\"/><path d=\"M17.41 7.96l-1.37-1.37c-.4-.4-.92-.59-1.43-.59-.52 0-1.04.2-1.43.59L10.3 9.45l-7.72 7.72c-.78.78-.78 2.05 0 2.83L4 21.41c.39.39.9.59 1.41.59.51 0 1.02-.2 1.41-.59l7.78-7.78 2.81-2.81c.8-.78.8-2.07 0-2.86zM5.41 20L4 18.59l7.72-7.72 1.47 1.35L5.41 20z\"/>\n",
              "  </svg>\n",
              "      </button>\n",
              "      \n",
              "  <style>\n",
              "    .colab-df-container {\n",
              "      display:flex;\n",
              "      flex-wrap:wrap;\n",
              "      gap: 12px;\n",
              "    }\n",
              "\n",
              "    .colab-df-convert {\n",
              "      background-color: #E8F0FE;\n",
              "      border: none;\n",
              "      border-radius: 50%;\n",
              "      cursor: pointer;\n",
              "      display: none;\n",
              "      fill: #1967D2;\n",
              "      height: 32px;\n",
              "      padding: 0 0 0 0;\n",
              "      width: 32px;\n",
              "    }\n",
              "\n",
              "    .colab-df-convert:hover {\n",
              "      background-color: #E2EBFA;\n",
              "      box-shadow: 0px 1px 2px rgba(60, 64, 67, 0.3), 0px 1px 3px 1px rgba(60, 64, 67, 0.15);\n",
              "      fill: #174EA6;\n",
              "    }\n",
              "\n",
              "    [theme=dark] .colab-df-convert {\n",
              "      background-color: #3B4455;\n",
              "      fill: #D2E3FC;\n",
              "    }\n",
              "\n",
              "    [theme=dark] .colab-df-convert:hover {\n",
              "      background-color: #434B5C;\n",
              "      box-shadow: 0px 1px 3px 1px rgba(0, 0, 0, 0.15);\n",
              "      filter: drop-shadow(0px 1px 2px rgba(0, 0, 0, 0.3));\n",
              "      fill: #FFFFFF;\n",
              "    }\n",
              "  </style>\n",
              "\n",
              "      <script>\n",
              "        const buttonEl =\n",
              "          document.querySelector('#df-5769c362-8537-4b81-8077-3af21cae2756 button.colab-df-convert');\n",
              "        buttonEl.style.display =\n",
              "          google.colab.kernel.accessAllowed ? 'block' : 'none';\n",
              "\n",
              "        async function convertToInteractive(key) {\n",
              "          const element = document.querySelector('#df-5769c362-8537-4b81-8077-3af21cae2756');\n",
              "          const dataTable =\n",
              "            await google.colab.kernel.invokeFunction('convertToInteractive',\n",
              "                                                     [key], {});\n",
              "          if (!dataTable) return;\n",
              "\n",
              "          const docLinkHtml = 'Like what you see? Visit the ' +\n",
              "            '<a target=\"_blank\" href=https://colab.research.google.com/notebooks/data_table.ipynb>data table notebook</a>'\n",
              "            + ' to learn more about interactive tables.';\n",
              "          element.innerHTML = '';\n",
              "          dataTable['output_type'] = 'display_data';\n",
              "          await google.colab.output.renderOutput(dataTable, element);\n",
              "          const docLink = document.createElement('div');\n",
              "          docLink.innerHTML = docLinkHtml;\n",
              "          element.appendChild(docLink);\n",
              "        }\n",
              "      </script>\n",
              "    </div>\n",
              "  </div>\n",
              "  "
            ]
          },
          "metadata": {},
          "execution_count": 80
        }
      ]
    },
    {
      "cell_type": "code",
      "metadata": {
        "id": "Xk65u4Gw27N-",
        "colab": {
          "base_uri": "https://localhost:8080/",
          "height": 206
        },
        "outputId": "282a3b68-4ebf-4434-998a-5c0929f3c1a7"
      },
      "source": [
        "column_names = [\"GK\",\"DEF\",\"MID\", \"OFF\",\"DEPTH\",\"DEFWIDTH\", \"MIDWIDTH\", \"OFFWIDTH\",\"AGK\",\"ADEF\",\"AMID\", \"AOFF\", \"ADEPTH\",\"ADEFWIDTH\",\"AMIDWIDTH\", \"AOFFWIDTH\" ,\"RESULT\" ]\n",
        "df2=pd.DataFrame(index=range(2962),columns=range(17)) #df for positional ratings, depths, and widths of each team and result for each match\n",
        "df2.columns=column_names\n",
        "df2.head()"
      ],
      "execution_count": 81,
      "outputs": [
        {
          "output_type": "execute_result",
          "data": {
            "text/plain": [
              "    GK  DEF  MID  OFF DEPTH DEFWIDTH MIDWIDTH OFFWIDTH  AGK ADEF AMID AOFF  \\\n",
              "0  NaN  NaN  NaN  NaN   NaN      NaN      NaN      NaN  NaN  NaN  NaN  NaN   \n",
              "1  NaN  NaN  NaN  NaN   NaN      NaN      NaN      NaN  NaN  NaN  NaN  NaN   \n",
              "2  NaN  NaN  NaN  NaN   NaN      NaN      NaN      NaN  NaN  NaN  NaN  NaN   \n",
              "3  NaN  NaN  NaN  NaN   NaN      NaN      NaN      NaN  NaN  NaN  NaN  NaN   \n",
              "4  NaN  NaN  NaN  NaN   NaN      NaN      NaN      NaN  NaN  NaN  NaN  NaN   \n",
              "\n",
              "  ADEPTH ADEFWIDTH AMIDWIDTH AOFFWIDTH RESULT  \n",
              "0    NaN       NaN       NaN       NaN    NaN  \n",
              "1    NaN       NaN       NaN       NaN    NaN  \n",
              "2    NaN       NaN       NaN       NaN    NaN  \n",
              "3    NaN       NaN       NaN       NaN    NaN  \n",
              "4    NaN       NaN       NaN       NaN    NaN  "
            ],
            "text/html": [
              "\n",
              "  <div id=\"df-3af3a86b-3f74-4ef2-a160-daceee131c3f\">\n",
              "    <div class=\"colab-df-container\">\n",
              "      <div>\n",
              "<style scoped>\n",
              "    .dataframe tbody tr th:only-of-type {\n",
              "        vertical-align: middle;\n",
              "    }\n",
              "\n",
              "    .dataframe tbody tr th {\n",
              "        vertical-align: top;\n",
              "    }\n",
              "\n",
              "    .dataframe thead th {\n",
              "        text-align: right;\n",
              "    }\n",
              "</style>\n",
              "<table border=\"1\" class=\"dataframe\">\n",
              "  <thead>\n",
              "    <tr style=\"text-align: right;\">\n",
              "      <th></th>\n",
              "      <th>GK</th>\n",
              "      <th>DEF</th>\n",
              "      <th>MID</th>\n",
              "      <th>OFF</th>\n",
              "      <th>DEPTH</th>\n",
              "      <th>DEFWIDTH</th>\n",
              "      <th>MIDWIDTH</th>\n",
              "      <th>OFFWIDTH</th>\n",
              "      <th>AGK</th>\n",
              "      <th>ADEF</th>\n",
              "      <th>AMID</th>\n",
              "      <th>AOFF</th>\n",
              "      <th>ADEPTH</th>\n",
              "      <th>ADEFWIDTH</th>\n",
              "      <th>AMIDWIDTH</th>\n",
              "      <th>AOFFWIDTH</th>\n",
              "      <th>RESULT</th>\n",
              "    </tr>\n",
              "  </thead>\n",
              "  <tbody>\n",
              "    <tr>\n",
              "      <th>0</th>\n",
              "      <td>NaN</td>\n",
              "      <td>NaN</td>\n",
              "      <td>NaN</td>\n",
              "      <td>NaN</td>\n",
              "      <td>NaN</td>\n",
              "      <td>NaN</td>\n",
              "      <td>NaN</td>\n",
              "      <td>NaN</td>\n",
              "      <td>NaN</td>\n",
              "      <td>NaN</td>\n",
              "      <td>NaN</td>\n",
              "      <td>NaN</td>\n",
              "      <td>NaN</td>\n",
              "      <td>NaN</td>\n",
              "      <td>NaN</td>\n",
              "      <td>NaN</td>\n",
              "      <td>NaN</td>\n",
              "    </tr>\n",
              "    <tr>\n",
              "      <th>1</th>\n",
              "      <td>NaN</td>\n",
              "      <td>NaN</td>\n",
              "      <td>NaN</td>\n",
              "      <td>NaN</td>\n",
              "      <td>NaN</td>\n",
              "      <td>NaN</td>\n",
              "      <td>NaN</td>\n",
              "      <td>NaN</td>\n",
              "      <td>NaN</td>\n",
              "      <td>NaN</td>\n",
              "      <td>NaN</td>\n",
              "      <td>NaN</td>\n",
              "      <td>NaN</td>\n",
              "      <td>NaN</td>\n",
              "      <td>NaN</td>\n",
              "      <td>NaN</td>\n",
              "      <td>NaN</td>\n",
              "    </tr>\n",
              "    <tr>\n",
              "      <th>2</th>\n",
              "      <td>NaN</td>\n",
              "      <td>NaN</td>\n",
              "      <td>NaN</td>\n",
              "      <td>NaN</td>\n",
              "      <td>NaN</td>\n",
              "      <td>NaN</td>\n",
              "      <td>NaN</td>\n",
              "      <td>NaN</td>\n",
              "      <td>NaN</td>\n",
              "      <td>NaN</td>\n",
              "      <td>NaN</td>\n",
              "      <td>NaN</td>\n",
              "      <td>NaN</td>\n",
              "      <td>NaN</td>\n",
              "      <td>NaN</td>\n",
              "      <td>NaN</td>\n",
              "      <td>NaN</td>\n",
              "    </tr>\n",
              "    <tr>\n",
              "      <th>3</th>\n",
              "      <td>NaN</td>\n",
              "      <td>NaN</td>\n",
              "      <td>NaN</td>\n",
              "      <td>NaN</td>\n",
              "      <td>NaN</td>\n",
              "      <td>NaN</td>\n",
              "      <td>NaN</td>\n",
              "      <td>NaN</td>\n",
              "      <td>NaN</td>\n",
              "      <td>NaN</td>\n",
              "      <td>NaN</td>\n",
              "      <td>NaN</td>\n",
              "      <td>NaN</td>\n",
              "      <td>NaN</td>\n",
              "      <td>NaN</td>\n",
              "      <td>NaN</td>\n",
              "      <td>NaN</td>\n",
              "    </tr>\n",
              "    <tr>\n",
              "      <th>4</th>\n",
              "      <td>NaN</td>\n",
              "      <td>NaN</td>\n",
              "      <td>NaN</td>\n",
              "      <td>NaN</td>\n",
              "      <td>NaN</td>\n",
              "      <td>NaN</td>\n",
              "      <td>NaN</td>\n",
              "      <td>NaN</td>\n",
              "      <td>NaN</td>\n",
              "      <td>NaN</td>\n",
              "      <td>NaN</td>\n",
              "      <td>NaN</td>\n",
              "      <td>NaN</td>\n",
              "      <td>NaN</td>\n",
              "      <td>NaN</td>\n",
              "      <td>NaN</td>\n",
              "      <td>NaN</td>\n",
              "    </tr>\n",
              "  </tbody>\n",
              "</table>\n",
              "</div>\n",
              "      <button class=\"colab-df-convert\" onclick=\"convertToInteractive('df-3af3a86b-3f74-4ef2-a160-daceee131c3f')\"\n",
              "              title=\"Convert this dataframe to an interactive table.\"\n",
              "              style=\"display:none;\">\n",
              "        \n",
              "  <svg xmlns=\"http://www.w3.org/2000/svg\" height=\"24px\"viewBox=\"0 0 24 24\"\n",
              "       width=\"24px\">\n",
              "    <path d=\"M0 0h24v24H0V0z\" fill=\"none\"/>\n",
              "    <path d=\"M18.56 5.44l.94 2.06.94-2.06 2.06-.94-2.06-.94-.94-2.06-.94 2.06-2.06.94zm-11 1L8.5 8.5l.94-2.06 2.06-.94-2.06-.94L8.5 2.5l-.94 2.06-2.06.94zm10 10l.94 2.06.94-2.06 2.06-.94-2.06-.94-.94-2.06-.94 2.06-2.06.94z\"/><path d=\"M17.41 7.96l-1.37-1.37c-.4-.4-.92-.59-1.43-.59-.52 0-1.04.2-1.43.59L10.3 9.45l-7.72 7.72c-.78.78-.78 2.05 0 2.83L4 21.41c.39.39.9.59 1.41.59.51 0 1.02-.2 1.41-.59l7.78-7.78 2.81-2.81c.8-.78.8-2.07 0-2.86zM5.41 20L4 18.59l7.72-7.72 1.47 1.35L5.41 20z\"/>\n",
              "  </svg>\n",
              "      </button>\n",
              "      \n",
              "  <style>\n",
              "    .colab-df-container {\n",
              "      display:flex;\n",
              "      flex-wrap:wrap;\n",
              "      gap: 12px;\n",
              "    }\n",
              "\n",
              "    .colab-df-convert {\n",
              "      background-color: #E8F0FE;\n",
              "      border: none;\n",
              "      border-radius: 50%;\n",
              "      cursor: pointer;\n",
              "      display: none;\n",
              "      fill: #1967D2;\n",
              "      height: 32px;\n",
              "      padding: 0 0 0 0;\n",
              "      width: 32px;\n",
              "    }\n",
              "\n",
              "    .colab-df-convert:hover {\n",
              "      background-color: #E2EBFA;\n",
              "      box-shadow: 0px 1px 2px rgba(60, 64, 67, 0.3), 0px 1px 3px 1px rgba(60, 64, 67, 0.15);\n",
              "      fill: #174EA6;\n",
              "    }\n",
              "\n",
              "    [theme=dark] .colab-df-convert {\n",
              "      background-color: #3B4455;\n",
              "      fill: #D2E3FC;\n",
              "    }\n",
              "\n",
              "    [theme=dark] .colab-df-convert:hover {\n",
              "      background-color: #434B5C;\n",
              "      box-shadow: 0px 1px 3px 1px rgba(0, 0, 0, 0.15);\n",
              "      filter: drop-shadow(0px 1px 2px rgba(0, 0, 0, 0.3));\n",
              "      fill: #FFFFFF;\n",
              "    }\n",
              "  </style>\n",
              "\n",
              "      <script>\n",
              "        const buttonEl =\n",
              "          document.querySelector('#df-3af3a86b-3f74-4ef2-a160-daceee131c3f button.colab-df-convert');\n",
              "        buttonEl.style.display =\n",
              "          google.colab.kernel.accessAllowed ? 'block' : 'none';\n",
              "\n",
              "        async function convertToInteractive(key) {\n",
              "          const element = document.querySelector('#df-3af3a86b-3f74-4ef2-a160-daceee131c3f');\n",
              "          const dataTable =\n",
              "            await google.colab.kernel.invokeFunction('convertToInteractive',\n",
              "                                                     [key], {});\n",
              "          if (!dataTable) return;\n",
              "\n",
              "          const docLinkHtml = 'Like what you see? Visit the ' +\n",
              "            '<a target=\"_blank\" href=https://colab.research.google.com/notebooks/data_table.ipynb>data table notebook</a>'\n",
              "            + ' to learn more about interactive tables.';\n",
              "          element.innerHTML = '';\n",
              "          dataTable['output_type'] = 'display_data';\n",
              "          await google.colab.output.renderOutput(dataTable, element);\n",
              "          const docLink = document.createElement('div');\n",
              "          docLink.innerHTML = docLinkHtml;\n",
              "          element.appendChild(docLink);\n",
              "        }\n",
              "      </script>\n",
              "    </div>\n",
              "  </div>\n",
              "  "
            ]
          },
          "metadata": {},
          "execution_count": 81
        }
      ]
    },
    {
      "cell_type": "code",
      "metadata": {
        "id": "GO48XsS4hgrM",
        "colab": {
          "base_uri": "https://localhost:8080/",
          "height": 206
        },
        "outputId": "ca4b9b33-cd9a-4fc5-a7b8-41167c921827"
      },
      "source": [
        "i=0\n",
        "while i<2962: #go through every match\n",
        "  df2.loc[i,'GK']=int(df.loc[i,'GK']) #add home goalkeeper rating from df into df2\n",
        "  df2.loc[i,'DEF']=int(np.mean(df.loc[i, 'D1':'D6'])) #add mean of home defender ratings from df into df2\n",
        "  df2.loc[i,'MID']=int(np.mean(df.loc[i, 'M1':'M7'])) #add mean of home midfielder ratings from df into df2\n",
        "  df2.loc[i,'OFF']=int(np.mean(df.loc[i, 'F1':'F4'])) #add mean of home attacker ratings from df into df2\n",
        "  df2.loc[i,'DEPTH']=getHDepth(i) #add home team depth\n",
        "  df2.loc[i,'DEFWIDTH']=getHWidth(i)[0] #add home team defensive width\n",
        "  df2.loc[i,'MIDWIDTH']=max(getHWidth(i)[1:len(getHWidth(i))-1]) #add max home team midfield width\n",
        "  df2.loc[i,'OFFWIDTH']=getHWidth(i)[len(getHWidth(i))-1] #add home team offensive width \n",
        "  df2.loc[i,'AGK']=int(df.loc[i,'AGK']) #add away goalkeeper rating from df into df2\n",
        "  df2.loc[i,'ADEF']=int(np.mean(df.loc[i, 'AD1':'AD6'])) #add mean of away defender ratings from df into df2\n",
        "  df2.loc[i,'AMID']=int(np.mean(df.loc[i, 'AM1':'AM7'])) #add mean of away midfielder ratings from df into df2\n",
        "  df2.loc[i,'AOFF']=int(np.mean(df.loc[i, 'AF1':'AF4'])) #add mean of away attacker ratings from df into df2\n",
        "  df2.loc[i,'ADEPTH']=getADepth(i) # add away team depth \n",
        "  df2.loc[i,'ADEFWIDTH']=getAWidth(i)[0] #add away team defensive width\n",
        "  df2.loc[i,'AMIDWIDTH']=max(getAWidth(i)[1:len(getAWidth(i))-1]) #add max away team midfield width\n",
        "  df2.loc[i,'AOFFWIDTH']=getAWidth(i)[len(getAWidth(i))-1] #add away team offensive width\n",
        "  if((match.loc[i,'home_team_goal'])>(match.loc[i,'away_team_goal'])): #if home scored more than away, result is a win, which equals 2\n",
        "    df2.loc[i,'RESULT']=2\n",
        "  if((match.loc[i,'home_team_goal'])==(match.loc[i,'away_team_goal'])): #if home scored as much as as away, result is draw, which equals 1\n",
        "    df2.loc[i,'RESULT']=1\n",
        "  elif((match.loc[i,'home_team_goal'])<(match.loc[i,'away_team_goal'])): #if home scored less than away, result is a loss, which equals 0\n",
        "    df2.loc[i,'RESULT']=0\n",
        "  i+=1\n",
        "df2.head()"
      ],
      "execution_count": 82,
      "outputs": [
        {
          "output_type": "execute_result",
          "data": {
            "text/plain": [
              "   GK DEF MID OFF DEPTH DEFWIDTH MIDWIDTH OFFWIDTH AGK ADEF AMID AOFF ADEPTH  \\\n",
              "0  85  82  82  82     3      6.0      6.0      2.0  82   77   70   83      4   \n",
              "1  75  78  77  80     3      6.0      6.0      2.0  77   69   72   68      3   \n",
              "2  78  69  76  74     3      6.0      6.0      2.0  84   75   80   85      3   \n",
              "3  77  77  76  75     3      6.0      6.0      2.0  77   72   73   74      3   \n",
              "4  79  77  75  81     3      6.0      8.0      1.0  81   77   77   77      3   \n",
              "\n",
              "  ADEFWIDTH AMIDWIDTH AOFFWIDTH RESULT  \n",
              "0       6.0       6.0       1.0      1  \n",
              "1       6.0       4.0       4.0      2  \n",
              "2       6.0       6.0       2.0      0  \n",
              "3       6.0       6.0       2.0      2  \n",
              "4       6.0       4.0       1.0      0  "
            ],
            "text/html": [
              "\n",
              "  <div id=\"df-23c803ab-bf4a-474e-b8c0-ac451c7b73ce\">\n",
              "    <div class=\"colab-df-container\">\n",
              "      <div>\n",
              "<style scoped>\n",
              "    .dataframe tbody tr th:only-of-type {\n",
              "        vertical-align: middle;\n",
              "    }\n",
              "\n",
              "    .dataframe tbody tr th {\n",
              "        vertical-align: top;\n",
              "    }\n",
              "\n",
              "    .dataframe thead th {\n",
              "        text-align: right;\n",
              "    }\n",
              "</style>\n",
              "<table border=\"1\" class=\"dataframe\">\n",
              "  <thead>\n",
              "    <tr style=\"text-align: right;\">\n",
              "      <th></th>\n",
              "      <th>GK</th>\n",
              "      <th>DEF</th>\n",
              "      <th>MID</th>\n",
              "      <th>OFF</th>\n",
              "      <th>DEPTH</th>\n",
              "      <th>DEFWIDTH</th>\n",
              "      <th>MIDWIDTH</th>\n",
              "      <th>OFFWIDTH</th>\n",
              "      <th>AGK</th>\n",
              "      <th>ADEF</th>\n",
              "      <th>AMID</th>\n",
              "      <th>AOFF</th>\n",
              "      <th>ADEPTH</th>\n",
              "      <th>ADEFWIDTH</th>\n",
              "      <th>AMIDWIDTH</th>\n",
              "      <th>AOFFWIDTH</th>\n",
              "      <th>RESULT</th>\n",
              "    </tr>\n",
              "  </thead>\n",
              "  <tbody>\n",
              "    <tr>\n",
              "      <th>0</th>\n",
              "      <td>85</td>\n",
              "      <td>82</td>\n",
              "      <td>82</td>\n",
              "      <td>82</td>\n",
              "      <td>3</td>\n",
              "      <td>6.0</td>\n",
              "      <td>6.0</td>\n",
              "      <td>2.0</td>\n",
              "      <td>82</td>\n",
              "      <td>77</td>\n",
              "      <td>70</td>\n",
              "      <td>83</td>\n",
              "      <td>4</td>\n",
              "      <td>6.0</td>\n",
              "      <td>6.0</td>\n",
              "      <td>1.0</td>\n",
              "      <td>1</td>\n",
              "    </tr>\n",
              "    <tr>\n",
              "      <th>1</th>\n",
              "      <td>75</td>\n",
              "      <td>78</td>\n",
              "      <td>77</td>\n",
              "      <td>80</td>\n",
              "      <td>3</td>\n",
              "      <td>6.0</td>\n",
              "      <td>6.0</td>\n",
              "      <td>2.0</td>\n",
              "      <td>77</td>\n",
              "      <td>69</td>\n",
              "      <td>72</td>\n",
              "      <td>68</td>\n",
              "      <td>3</td>\n",
              "      <td>6.0</td>\n",
              "      <td>4.0</td>\n",
              "      <td>4.0</td>\n",
              "      <td>2</td>\n",
              "    </tr>\n",
              "    <tr>\n",
              "      <th>2</th>\n",
              "      <td>78</td>\n",
              "      <td>69</td>\n",
              "      <td>76</td>\n",
              "      <td>74</td>\n",
              "      <td>3</td>\n",
              "      <td>6.0</td>\n",
              "      <td>6.0</td>\n",
              "      <td>2.0</td>\n",
              "      <td>84</td>\n",
              "      <td>75</td>\n",
              "      <td>80</td>\n",
              "      <td>85</td>\n",
              "      <td>3</td>\n",
              "      <td>6.0</td>\n",
              "      <td>6.0</td>\n",
              "      <td>2.0</td>\n",
              "      <td>0</td>\n",
              "    </tr>\n",
              "    <tr>\n",
              "      <th>3</th>\n",
              "      <td>77</td>\n",
              "      <td>77</td>\n",
              "      <td>76</td>\n",
              "      <td>75</td>\n",
              "      <td>3</td>\n",
              "      <td>6.0</td>\n",
              "      <td>6.0</td>\n",
              "      <td>2.0</td>\n",
              "      <td>77</td>\n",
              "      <td>72</td>\n",
              "      <td>73</td>\n",
              "      <td>74</td>\n",
              "      <td>3</td>\n",
              "      <td>6.0</td>\n",
              "      <td>6.0</td>\n",
              "      <td>2.0</td>\n",
              "      <td>2</td>\n",
              "    </tr>\n",
              "    <tr>\n",
              "      <th>4</th>\n",
              "      <td>79</td>\n",
              "      <td>77</td>\n",
              "      <td>75</td>\n",
              "      <td>81</td>\n",
              "      <td>3</td>\n",
              "      <td>6.0</td>\n",
              "      <td>8.0</td>\n",
              "      <td>1.0</td>\n",
              "      <td>81</td>\n",
              "      <td>77</td>\n",
              "      <td>77</td>\n",
              "      <td>77</td>\n",
              "      <td>3</td>\n",
              "      <td>6.0</td>\n",
              "      <td>4.0</td>\n",
              "      <td>1.0</td>\n",
              "      <td>0</td>\n",
              "    </tr>\n",
              "  </tbody>\n",
              "</table>\n",
              "</div>\n",
              "      <button class=\"colab-df-convert\" onclick=\"convertToInteractive('df-23c803ab-bf4a-474e-b8c0-ac451c7b73ce')\"\n",
              "              title=\"Convert this dataframe to an interactive table.\"\n",
              "              style=\"display:none;\">\n",
              "        \n",
              "  <svg xmlns=\"http://www.w3.org/2000/svg\" height=\"24px\"viewBox=\"0 0 24 24\"\n",
              "       width=\"24px\">\n",
              "    <path d=\"M0 0h24v24H0V0z\" fill=\"none\"/>\n",
              "    <path d=\"M18.56 5.44l.94 2.06.94-2.06 2.06-.94-2.06-.94-.94-2.06-.94 2.06-2.06.94zm-11 1L8.5 8.5l.94-2.06 2.06-.94-2.06-.94L8.5 2.5l-.94 2.06-2.06.94zm10 10l.94 2.06.94-2.06 2.06-.94-2.06-.94-.94-2.06-.94 2.06-2.06.94z\"/><path d=\"M17.41 7.96l-1.37-1.37c-.4-.4-.92-.59-1.43-.59-.52 0-1.04.2-1.43.59L10.3 9.45l-7.72 7.72c-.78.78-.78 2.05 0 2.83L4 21.41c.39.39.9.59 1.41.59.51 0 1.02-.2 1.41-.59l7.78-7.78 2.81-2.81c.8-.78.8-2.07 0-2.86zM5.41 20L4 18.59l7.72-7.72 1.47 1.35L5.41 20z\"/>\n",
              "  </svg>\n",
              "      </button>\n",
              "      \n",
              "  <style>\n",
              "    .colab-df-container {\n",
              "      display:flex;\n",
              "      flex-wrap:wrap;\n",
              "      gap: 12px;\n",
              "    }\n",
              "\n",
              "    .colab-df-convert {\n",
              "      background-color: #E8F0FE;\n",
              "      border: none;\n",
              "      border-radius: 50%;\n",
              "      cursor: pointer;\n",
              "      display: none;\n",
              "      fill: #1967D2;\n",
              "      height: 32px;\n",
              "      padding: 0 0 0 0;\n",
              "      width: 32px;\n",
              "    }\n",
              "\n",
              "    .colab-df-convert:hover {\n",
              "      background-color: #E2EBFA;\n",
              "      box-shadow: 0px 1px 2px rgba(60, 64, 67, 0.3), 0px 1px 3px 1px rgba(60, 64, 67, 0.15);\n",
              "      fill: #174EA6;\n",
              "    }\n",
              "\n",
              "    [theme=dark] .colab-df-convert {\n",
              "      background-color: #3B4455;\n",
              "      fill: #D2E3FC;\n",
              "    }\n",
              "\n",
              "    [theme=dark] .colab-df-convert:hover {\n",
              "      background-color: #434B5C;\n",
              "      box-shadow: 0px 1px 3px 1px rgba(0, 0, 0, 0.15);\n",
              "      filter: drop-shadow(0px 1px 2px rgba(0, 0, 0, 0.3));\n",
              "      fill: #FFFFFF;\n",
              "    }\n",
              "  </style>\n",
              "\n",
              "      <script>\n",
              "        const buttonEl =\n",
              "          document.querySelector('#df-23c803ab-bf4a-474e-b8c0-ac451c7b73ce button.colab-df-convert');\n",
              "        buttonEl.style.display =\n",
              "          google.colab.kernel.accessAllowed ? 'block' : 'none';\n",
              "\n",
              "        async function convertToInteractive(key) {\n",
              "          const element = document.querySelector('#df-23c803ab-bf4a-474e-b8c0-ac451c7b73ce');\n",
              "          const dataTable =\n",
              "            await google.colab.kernel.invokeFunction('convertToInteractive',\n",
              "                                                     [key], {});\n",
              "          if (!dataTable) return;\n",
              "\n",
              "          const docLinkHtml = 'Like what you see? Visit the ' +\n",
              "            '<a target=\"_blank\" href=https://colab.research.google.com/notebooks/data_table.ipynb>data table notebook</a>'\n",
              "            + ' to learn more about interactive tables.';\n",
              "          element.innerHTML = '';\n",
              "          dataTable['output_type'] = 'display_data';\n",
              "          await google.colab.output.renderOutput(dataTable, element);\n",
              "          const docLink = document.createElement('div');\n",
              "          docLink.innerHTML = docLinkHtml;\n",
              "          element.appendChild(docLink);\n",
              "        }\n",
              "      </script>\n",
              "    </div>\n",
              "  </div>\n",
              "  "
            ]
          },
          "metadata": {},
          "execution_count": 82
        }
      ]
    },
    {
      "cell_type": "code",
      "metadata": {
        "id": "5wT99eJVnKUd"
      },
      "source": [
        "df2['GK']=df2['GK'].astype(int) #change all column types to int\n",
        "df2['DEF']=df2['DEF'].astype(int)\n",
        "df2['MID']=df2['MID'].astype(int)\n",
        "df2['OFF']=df2['OFF'].astype(int)\n",
        "df2['DEPTH']=df2['DEPTH'].astype(int)\n",
        "df2['DEFWIDTH']=df2['DEFWIDTH'].astype(int)\n",
        "df2['MIDWIDTH']=df2['MIDWIDTH'].astype(int)\n",
        "df2['OFFWIDTH']=df2['OFFWIDTH'].astype(int)\n",
        "df2['AGK']=df2['AGK'].astype(int)\n",
        "df2['ADEF']=df2['ADEF'].astype(int)\n",
        "df2['AMID']=df2['AMID'].astype(int)\n",
        "df2['AOFF']=df2['AOFF'].astype(int)\n",
        "df2['ADEPTH']=df2['ADEPTH'].astype(int)\n",
        "df2['ADEFWIDTH']=df2['ADEFWIDTH'].astype(int)\n",
        "df2['AMIDWIDTH']=df2['AMIDWIDTH'].astype(int)\n",
        "df2['AOFFWIDTH']=df2['AOFFWIDTH'].astype(int)\n",
        "df2['RESULT']=df2['RESULT'].astype(int)"
      ],
      "execution_count": 83,
      "outputs": []
    },
    {
      "cell_type": "code",
      "metadata": {
        "id": "2llu8v9lotWJ",
        "colab": {
          "base_uri": "https://localhost:8080/",
          "height": 206
        },
        "outputId": "63bbb5a3-3ca5-4efb-fe08-858b8e124df8"
      },
      "source": [
        "#original calculation method \n",
        "column_namesv1 = [\"NETGK\", \"NETDEF\",\"NETMID\", \"NETOFF\", \"NETDEPTH\", \"NETDEFWIDTH\", \"NETMIDWIDTH\",\"NETOFFWIDTH\",\"RESULT\" ]\n",
        "df3v1=pd.DataFrame(index=range(2962),columns=range(9)) #df for goalkeepr ratings, net positional ratings, net depth, net widths, adnd result for each match\n",
        "df3v1.columns=column_namesv1\n",
        "df3v1['NETGK']=df2['GK']-df2['AGK'] #add net goalkeeper into df3v1 by subtracting away goalkeeper from home goalkeeper in df2 \n",
        "df3v1['NETDEF']=df2['DEF']-df2['ADEF'] #add net defense into df3v1 by subtracting away offense from home defense in df2 \n",
        "df3v1['NETMID']=df2['MID']-df2['AMID'] #add net midfield into df3v1 by subtracting away midfield from home midfield in df2 \n",
        "df3v1['NETOFF']=df2['OFF']-df2['AOFF'] #add net offense into df3v1 by subtracting away defense from home offense in df2 \n",
        "df3v1['NETDEPTH']=df2['DEPTH']-df2['ADEPTH'] #add net depth into df3v1 by subtracting away depth from home depth in df2 \n",
        "df3v1['NETDEFWIDTH']=df2['DEFWIDTH']-df2['ADEFWIDTH'] #add net defense width into df3v1 by subtracting away defense width from home defense width\n",
        "df3v1['NETMIDWIDTH']=df2['MIDWIDTH']-df2['AMIDWIDTH'] #add net midfield width df3v1 by subtracting away midfield width from home midfield width in df2 \n",
        "df3v1['NETOFFWIDTH']=df2['OFFWIDTH']-df2['AOFFWIDTH'] #add net offense width into df3v1 by subtracting away offense width from home offense width in df2 \n",
        "df3v1['RESULT']=df2['RESULT'] #add result from df2 into df3v1\n",
        "df3v1.head()"
      ],
      "execution_count": 84,
      "outputs": [
        {
          "output_type": "execute_result",
          "data": {
            "text/plain": [
              "   NETGK  NETDEF  NETMID  NETOFF  NETDEPTH  NETDEFWIDTH  NETMIDWIDTH  \\\n",
              "0      3       5      12      -1        -1            0            0   \n",
              "1     -2       9       5      12         0            0            2   \n",
              "2     -6      -6      -4     -11         0            0            0   \n",
              "3      0       5       3       1         0            0            0   \n",
              "4     -2       0      -2       4         0            0            4   \n",
              "\n",
              "   NETOFFWIDTH  RESULT  \n",
              "0            1       1  \n",
              "1           -2       2  \n",
              "2            0       0  \n",
              "3            0       2  \n",
              "4            0       0  "
            ],
            "text/html": [
              "\n",
              "  <div id=\"df-97f18e32-a146-4fde-a3e4-f5aedceb08de\">\n",
              "    <div class=\"colab-df-container\">\n",
              "      <div>\n",
              "<style scoped>\n",
              "    .dataframe tbody tr th:only-of-type {\n",
              "        vertical-align: middle;\n",
              "    }\n",
              "\n",
              "    .dataframe tbody tr th {\n",
              "        vertical-align: top;\n",
              "    }\n",
              "\n",
              "    .dataframe thead th {\n",
              "        text-align: right;\n",
              "    }\n",
              "</style>\n",
              "<table border=\"1\" class=\"dataframe\">\n",
              "  <thead>\n",
              "    <tr style=\"text-align: right;\">\n",
              "      <th></th>\n",
              "      <th>NETGK</th>\n",
              "      <th>NETDEF</th>\n",
              "      <th>NETMID</th>\n",
              "      <th>NETOFF</th>\n",
              "      <th>NETDEPTH</th>\n",
              "      <th>NETDEFWIDTH</th>\n",
              "      <th>NETMIDWIDTH</th>\n",
              "      <th>NETOFFWIDTH</th>\n",
              "      <th>RESULT</th>\n",
              "    </tr>\n",
              "  </thead>\n",
              "  <tbody>\n",
              "    <tr>\n",
              "      <th>0</th>\n",
              "      <td>3</td>\n",
              "      <td>5</td>\n",
              "      <td>12</td>\n",
              "      <td>-1</td>\n",
              "      <td>-1</td>\n",
              "      <td>0</td>\n",
              "      <td>0</td>\n",
              "      <td>1</td>\n",
              "      <td>1</td>\n",
              "    </tr>\n",
              "    <tr>\n",
              "      <th>1</th>\n",
              "      <td>-2</td>\n",
              "      <td>9</td>\n",
              "      <td>5</td>\n",
              "      <td>12</td>\n",
              "      <td>0</td>\n",
              "      <td>0</td>\n",
              "      <td>2</td>\n",
              "      <td>-2</td>\n",
              "      <td>2</td>\n",
              "    </tr>\n",
              "    <tr>\n",
              "      <th>2</th>\n",
              "      <td>-6</td>\n",
              "      <td>-6</td>\n",
              "      <td>-4</td>\n",
              "      <td>-11</td>\n",
              "      <td>0</td>\n",
              "      <td>0</td>\n",
              "      <td>0</td>\n",
              "      <td>0</td>\n",
              "      <td>0</td>\n",
              "    </tr>\n",
              "    <tr>\n",
              "      <th>3</th>\n",
              "      <td>0</td>\n",
              "      <td>5</td>\n",
              "      <td>3</td>\n",
              "      <td>1</td>\n",
              "      <td>0</td>\n",
              "      <td>0</td>\n",
              "      <td>0</td>\n",
              "      <td>0</td>\n",
              "      <td>2</td>\n",
              "    </tr>\n",
              "    <tr>\n",
              "      <th>4</th>\n",
              "      <td>-2</td>\n",
              "      <td>0</td>\n",
              "      <td>-2</td>\n",
              "      <td>4</td>\n",
              "      <td>0</td>\n",
              "      <td>0</td>\n",
              "      <td>4</td>\n",
              "      <td>0</td>\n",
              "      <td>0</td>\n",
              "    </tr>\n",
              "  </tbody>\n",
              "</table>\n",
              "</div>\n",
              "      <button class=\"colab-df-convert\" onclick=\"convertToInteractive('df-97f18e32-a146-4fde-a3e4-f5aedceb08de')\"\n",
              "              title=\"Convert this dataframe to an interactive table.\"\n",
              "              style=\"display:none;\">\n",
              "        \n",
              "  <svg xmlns=\"http://www.w3.org/2000/svg\" height=\"24px\"viewBox=\"0 0 24 24\"\n",
              "       width=\"24px\">\n",
              "    <path d=\"M0 0h24v24H0V0z\" fill=\"none\"/>\n",
              "    <path d=\"M18.56 5.44l.94 2.06.94-2.06 2.06-.94-2.06-.94-.94-2.06-.94 2.06-2.06.94zm-11 1L8.5 8.5l.94-2.06 2.06-.94-2.06-.94L8.5 2.5l-.94 2.06-2.06.94zm10 10l.94 2.06.94-2.06 2.06-.94-2.06-.94-.94-2.06-.94 2.06-2.06.94z\"/><path d=\"M17.41 7.96l-1.37-1.37c-.4-.4-.92-.59-1.43-.59-.52 0-1.04.2-1.43.59L10.3 9.45l-7.72 7.72c-.78.78-.78 2.05 0 2.83L4 21.41c.39.39.9.59 1.41.59.51 0 1.02-.2 1.41-.59l7.78-7.78 2.81-2.81c.8-.78.8-2.07 0-2.86zM5.41 20L4 18.59l7.72-7.72 1.47 1.35L5.41 20z\"/>\n",
              "  </svg>\n",
              "      </button>\n",
              "      \n",
              "  <style>\n",
              "    .colab-df-container {\n",
              "      display:flex;\n",
              "      flex-wrap:wrap;\n",
              "      gap: 12px;\n",
              "    }\n",
              "\n",
              "    .colab-df-convert {\n",
              "      background-color: #E8F0FE;\n",
              "      border: none;\n",
              "      border-radius: 50%;\n",
              "      cursor: pointer;\n",
              "      display: none;\n",
              "      fill: #1967D2;\n",
              "      height: 32px;\n",
              "      padding: 0 0 0 0;\n",
              "      width: 32px;\n",
              "    }\n",
              "\n",
              "    .colab-df-convert:hover {\n",
              "      background-color: #E2EBFA;\n",
              "      box-shadow: 0px 1px 2px rgba(60, 64, 67, 0.3), 0px 1px 3px 1px rgba(60, 64, 67, 0.15);\n",
              "      fill: #174EA6;\n",
              "    }\n",
              "\n",
              "    [theme=dark] .colab-df-convert {\n",
              "      background-color: #3B4455;\n",
              "      fill: #D2E3FC;\n",
              "    }\n",
              "\n",
              "    [theme=dark] .colab-df-convert:hover {\n",
              "      background-color: #434B5C;\n",
              "      box-shadow: 0px 1px 3px 1px rgba(0, 0, 0, 0.15);\n",
              "      filter: drop-shadow(0px 1px 2px rgba(0, 0, 0, 0.3));\n",
              "      fill: #FFFFFF;\n",
              "    }\n",
              "  </style>\n",
              "\n",
              "      <script>\n",
              "        const buttonEl =\n",
              "          document.querySelector('#df-97f18e32-a146-4fde-a3e4-f5aedceb08de button.colab-df-convert');\n",
              "        buttonEl.style.display =\n",
              "          google.colab.kernel.accessAllowed ? 'block' : 'none';\n",
              "\n",
              "        async function convertToInteractive(key) {\n",
              "          const element = document.querySelector('#df-97f18e32-a146-4fde-a3e4-f5aedceb08de');\n",
              "          const dataTable =\n",
              "            await google.colab.kernel.invokeFunction('convertToInteractive',\n",
              "                                                     [key], {});\n",
              "          if (!dataTable) return;\n",
              "\n",
              "          const docLinkHtml = 'Like what you see? Visit the ' +\n",
              "            '<a target=\"_blank\" href=https://colab.research.google.com/notebooks/data_table.ipynb>data table notebook</a>'\n",
              "            + ' to learn more about interactive tables.';\n",
              "          element.innerHTML = '';\n",
              "          dataTable['output_type'] = 'display_data';\n",
              "          await google.colab.output.renderOutput(dataTable, element);\n",
              "          const docLink = document.createElement('div');\n",
              "          docLink.innerHTML = docLinkHtml;\n",
              "          element.appendChild(docLink);\n",
              "        }\n",
              "      </script>\n",
              "    </div>\n",
              "  </div>\n",
              "  "
            ]
          },
          "metadata": {},
          "execution_count": 84
        }
      ]
    },
    {
      "cell_type": "code",
      "metadata": {
        "id": "GSClvaIlssHg",
        "colab": {
          "base_uri": "https://localhost:8080/"
        },
        "outputId": "9e63af64-0282-4e6e-aafb-1d8ba81172aa"
      },
      "source": [
        "#original classifer\n",
        "from sklearn.linear_model import LogisticRegression\n",
        "from sklearn.model_selection import train_test_split\n",
        "X = df3v1.loc[:,'NETGK':'NETOFFWIDTH'].values #independent variables\n",
        "Y = list(df3v1.RESULT.values) #dependent variables\n",
        "train_x, test_x, train_y, test_y = train_test_split(X,Y,test_size=0.3,random_state=0) #split data into training and test groups\n",
        "clf = LogisticRegression(solver='lbfgs', multi_class='multinomial', max_iter=10000) #set classifier to multinomial logistic regression\n",
        "clf.fit(train_x, train_y) #train model\n",
        "print ('Accuracy: ' + str(clf.score(test_x, test_y)*100) + '%') #check model accuracy with test group"
      ],
      "execution_count": 85,
      "outputs": [
        {
          "output_type": "stream",
          "name": "stdout",
          "text": [
            "Accuracy: 52.41844769403825%\n"
          ]
        }
      ]
    },
    {
      "cell_type": "code",
      "metadata": {
        "id": "4_0tiJ5ZssHi",
        "colab": {
          "base_uri": "https://localhost:8080/"
        },
        "outputId": "b0190983-6da7-4487-b338-bf0c560c59f1"
      },
      "source": [
        "from sklearn import metrics \n",
        "y_pred=clf.predict(test_x)\n",
        "cnf_matrix = metrics.confusion_matrix(test_y, y_pred)\n",
        "cnf_matrix"
      ],
      "execution_count": 86,
      "outputs": [
        {
          "output_type": "execute_result",
          "data": {
            "text/plain": [
              "array([[127,   0, 114],\n",
              "       [ 65,   0, 179],\n",
              "       [ 65,   0, 339]])"
            ]
          },
          "metadata": {},
          "execution_count": 86
        }
      ]
    },
    {
      "cell_type": "code",
      "metadata": {
        "id": "S0hPnq8issHj",
        "colab": {
          "base_uri": "https://localhost:8080/",
          "height": 344
        },
        "outputId": "00233f03-7f94-4e2c-d014-bc43de428947"
      },
      "source": [
        "class_names=[0,1,2] # name  of classes\n",
        "fig, ax = plt.subplots()\n",
        "tick_marks = np.arange(len(class_names))\n",
        "plt.xticks(tick_marks, class_names)\n",
        "plt.yticks(tick_marks, class_names)\n",
        "# create heatmap\n",
        "sns.heatmap(pd.DataFrame(cnf_matrix), annot=True, cmap=\"YlGnBu\" ,fmt='g')\n",
        "ax.xaxis.set_label_position(\"top\")\n",
        "plt.tight_layout()\n",
        "plt.title('Confusion matrix', y=1.1)\n",
        "plt.ylabel('Actual label')\n",
        "plt.xlabel('Predicted label')"
      ],
      "execution_count": 87,
      "outputs": [
        {
          "output_type": "execute_result",
          "data": {
            "text/plain": [
              "Text(0.5, 257.44, 'Predicted label')"
            ]
          },
          "metadata": {},
          "execution_count": 87
        },
        {
          "output_type": "display_data",
          "data": {
            "text/plain": [
              "<Figure size 432x288 with 2 Axes>"
            ],
            "image/png": "[encoded data removed]"
          },
          "metadata": {
            "needs_background": "light"
          }
        }
      ]
    },
    {
      "cell_type": "code",
      "metadata": {
        "id": "Wj13_A0Nz_G5",
        "colab": {
          "base_uri": "https://localhost:8080/"
        },
        "outputId": "f75ad6aa-8770-4cc3-f629-d47dc943792f"
      },
      "source": [
        "correct_loss_pred = 100*cnf_matrix[0][0]/(cnf_matrix[0][0]+cnf_matrix[0][1]+cnf_matrix[0][2])\n",
        "correct_draw_pred = 100*cnf_matrix[1][1]/(cnf_matrix[1][0]+cnf_matrix[1][1]+cnf_matrix[1][2])\n",
        "correct_win_pred = 100*cnf_matrix[2][2]/(cnf_matrix[2][0]+cnf_matrix[2][1]+cnf_matrix[2][2])\n",
        "print('Percentage of losses correctly classified: ' + str(correct_loss_pred) + '%')\n",
        "print('Percentage of draws correctly classified: ' + str(correct_draw_pred) + '%')\n",
        "print('Percentage of wins correctly classified: ' + str(correct_win_pred) + '%')"
      ],
      "execution_count": 88,
      "outputs": [
        {
          "output_type": "stream",
          "name": "stdout",
          "text": [
            "Percentage of losses correctly classified: 52.697095435684645%\n",
            "Percentage of draws correctly classified: 0.0%\n",
            "Percentage of wins correctly classified: 83.91089108910892%\n"
          ]
        }
      ]
    },
    {
      "cell_type": "code",
      "metadata": {
        "id": "ajhBHebRssHl",
        "colab": {
          "base_uri": "https://localhost:8080/"
        },
        "outputId": "73262ed0-ad44-4c25-c58f-91e885334710"
      },
      "source": [
        "from sklearn.linear_model import LogisticRegression\n",
        "from sklearn.feature_selection import RFE\n",
        "for i in range(1, 9):\n",
        "  clf1 = LogisticRegression(solver='lbfgs',multi_class='multinomial', max_iter=10000) #set classifier to multinomial logistic regression \n",
        "  rfe = RFE(estimator=clf1, n_features_to_select=i)   \n",
        "  fit = rfe.fit(train_x, train_y)\n",
        "  print('Num Features: '+ str(fit.n_features_))\n",
        "  print('Selected Features: ' + str(fit.support_))\n",
        "  print('Feature Ranking: ' + str(fit.ranking_))\n",
        "  print('Accuracy: '+str(fit.score(test_x, test_y)*100)+'%') #check model accuracy with test group"
      ],
      "execution_count": 89,
      "outputs": [
        {
          "output_type": "stream",
          "name": "stdout",
          "text": [
            "Num Features: 1\n",
            "Selected Features: [False False  True False False False False False]\n",
            "Feature Ranking: [8 6 1 7 3 4 5 2]\n",
            "Accuracy: 52.75590551181102%\n",
            "Num Features: 2\n",
            "Selected Features: [False False  True False False False False  True]\n",
            "Feature Ranking: [7 5 1 6 2 3 4 1]\n",
            "Accuracy: 52.64341957255343%\n",
            "Num Features: 3\n",
            "Selected Features: [False False  True False  True False False  True]\n",
            "Feature Ranking: [6 4 1 5 1 2 3 1]\n",
            "Accuracy: 52.41844769403825%\n",
            "Num Features: 4\n",
            "Selected Features: [False False  True False  True  True False  True]\n",
            "Feature Ranking: [5 3 1 4 1 1 2 1]\n",
            "Accuracy: 52.41844769403825%\n",
            "Num Features: 5\n",
            "Selected Features: [False False  True False  True  True  True  True]\n",
            "Feature Ranking: [4 2 1 3 1 1 1 1]\n",
            "Accuracy: 52.75590551181102%\n",
            "Num Features: 6\n",
            "Selected Features: [False  True  True False  True  True  True  True]\n",
            "Feature Ranking: [3 1 1 2 1 1 1 1]\n",
            "Accuracy: 52.30596175478065%\n",
            "Num Features: 7\n",
            "Selected Features: [False  True  True  True  True  True  True  True]\n",
            "Feature Ranking: [2 1 1 1 1 1 1 1]\n",
            "Accuracy: 51.96850393700787%\n",
            "Num Features: 8\n",
            "Selected Features: [ True  True  True  True  True  True  True  True]\n",
            "Feature Ranking: [1 1 1 1 1 1 1 1]\n",
            "Accuracy: 52.41844769403825%\n"
          ]
        }
      ]
    },
    {
      "cell_type": "code",
      "metadata": {
        "id": "EvQPrcmwssHm",
        "colab": {
          "base_uri": "https://localhost:8080/"
        },
        "outputId": "d5dd6ea0-8395-4866-e423-0074aa6ef912"
      },
      "source": [
        "print('Coefficients: \\n', clf.coef_) #negative coeff = increase in the independent variable = decrease in probability of predicting the dependent variable \n",
        "#positive coeff = increase in the independent variable = increase in probability of predicting the dependent variable"
      ],
      "execution_count": 90,
      "outputs": [
        {
          "output_type": "stream",
          "name": "stdout",
          "text": [
            "Coefficients: \n",
            " [[-0.00195503 -0.02176105 -0.0679877   0.00869316  0.05616095  0.01407106\n",
            "   0.03239092  0.01439711]\n",
            " [-0.00482247 -0.01004788  0.0190463  -0.00986904  0.06328954  0.03108686\n",
            "   0.01387902  0.04825091]\n",
            " [ 0.00677751  0.03180892  0.0489414   0.00117588 -0.11945049 -0.04515792\n",
            "  -0.04626994 -0.06264801]]\n"
          ]
        }
      ]
    },
    {
      "cell_type": "code",
      "metadata": {
        "id": "VpDggjzKssHn",
        "colab": {
          "base_uri": "https://localhost:8080/",
          "height": 364
        },
        "outputId": "b02d6724-d1db-4c40-f677-9302608887a4"
      },
      "source": [
        "fig = plt.figure()\n",
        "ax = fig.add_axes([0,0,1,1])\n",
        "features = ['NETGK','NETDEF','NETMID',\t'NETOFF',\t'NETDEPTH',\t'NETDEFWIDTH','NETMIDWIDTH','NETOFFWIDTH']\n",
        "coefficients = [clf.coef_[0][0],clf.coef_[0][1],clf.coef_[0][2],clf.coef_[0][3],clf.coef_[0][4],clf.coef_[0][5],clf.coef_[0][6],clf.coef_[0][7]]\n",
        "ax.bar(features,coefficients)\n",
        "plt.title(\"Impact on Probability of Classifying a Match as a Loss\")\n",
        "plt.ylim(-0.2,0.2)\n",
        "plt.xlabel(\"Features\")\n",
        "plt.ylabel(\"Coefficients\")\n",
        "plt.rc('axes', titlesize=12)     # fontsize of the axes title\n",
        "plt.rc('axes', labelsize=12)    # fontsize of the x and y labels\n",
        "plt.rc('xtick', labelsize=6)    # fontsize of the tick labels\n",
        "plt.rc('ytick', labelsize=8)    # fontsize of the tick labels\n",
        "plt.show()"
      ],
      "execution_count": 91,
      "outputs": [
        {
          "output_type": "display_data",
          "data": {
            "text/plain": [
              "<Figure size 432x288 with 1 Axes>"
            ],
            "image/png": "[encoded data removed]"
          },
          "metadata": {
            "needs_background": "light"
          }
        }
      ]
    },
    {
      "cell_type": "code",
      "metadata": {
        "id": "NqmupgJfssHo",
        "colab": {
          "base_uri": "https://localhost:8080/",
          "height": 364
        },
        "outputId": "4bed2e5c-d7ac-48e1-b8eb-14279195eb1a"
      },
      "source": [
        "fig = plt.figure()\n",
        "ax = fig.add_axes([0,0,1,1])\n",
        "features = ['NETGK','NETDEF','NETMID',\t'NETOFF',\t'NETDEPTH',\t'NETDEFWIDTH','NETMIDWIDTH','NETOFFWIDTH']\n",
        "coefficients = [clf.coef_[1][0],clf.coef_[1][1],clf.coef_[1][2],clf.coef_[1][3],clf.coef_[1][4],clf.coef_[1][5],clf.coef_[1][6],clf.coef_[1][7]]\n",
        "ax.bar(features,coefficients)\n",
        "plt.title(\"Impact on Probability of Classifying a Match as a Draw\")\n",
        "plt.ylim(-0.2,0.2)\n",
        "plt.xlabel(\"Features\")\n",
        "plt.ylabel(\"Coefficients\")\n",
        "plt.rc('axes', titlesize=12)     # fontsize of the axes title\n",
        "plt.rc('axes', labelsize=12)    # fontsize of the x and y labels\n",
        "plt.rc('xtick', labelsize=6)    # fontsize of the tick labels\n",
        "plt.rc('ytick', labelsize=8)    # fontsize of the tick labels\n",
        "plt.show()"
      ],
      "execution_count": 92,
      "outputs": [
        {
          "output_type": "display_data",
          "data": {
            "text/plain": [
              "<Figure size 432x288 with 1 Axes>"
            ],
            "image/png": "[encoded data removed]"
          },
          "metadata": {
            "needs_background": "light"
          }
        }
      ]
    },
    {
      "cell_type": "code",
      "metadata": {
        "id": "pNX8HIQhssHp",
        "colab": {
          "base_uri": "https://localhost:8080/",
          "height": 364
        },
        "outputId": "5714a03e-2f11-4f71-fe86-3e05aec9f9e6"
      },
      "source": [
        "fig = plt.figure()\n",
        "ax = fig.add_axes([0,0,1,1])\n",
        "features = ['NETGK','NETDEF','NETMID',\t'NETOFF',\t'NETDEPTH',\t'NETDEFWIDTH','NETMIDWIDTH','NETOFFWIDTH']\n",
        "coefficients = [clf.coef_[2][0],clf.coef_[2][1],clf.coef_[2][2],clf.coef_[2][3],clf.coef_[2][4],clf.coef_[2][5],clf.coef_[2][6],clf.coef_[2][7]]\n",
        "ax.bar(features,coefficients)\n",
        "plt.title(\"Impact on Probability of Classifying a Match as a Win\")\n",
        "plt.ylim(-0.2,0.2)\n",
        "plt.xlabel(\"Features\")\n",
        "plt.ylabel(\"Coefficients\")\n",
        "plt.rc('axes', titlesize=12)     # fontsize of the axes title\n",
        "plt.rc('axes', labelsize=12)    # fontsize of the x and y labels\n",
        "plt.rc('xtick', labelsize=6)    # fontsize of the tick labels\n",
        "plt.rc('ytick', labelsize=8)    # fontsize of the tick labels\n",
        "plt.show()"
      ],
      "execution_count": 93,
      "outputs": [
        {
          "output_type": "display_data",
          "data": {
            "text/plain": [
              "<Figure size 432x288 with 1 Axes>"
            ],
            "image/png": "[encoded data removed]"
          },
          "metadata": {
            "needs_background": "light"
          }
        }
      ]
    },
    {
      "cell_type": "code",
      "metadata": {
        "id": "BBu5kXPvyV8T",
        "colab": {
          "base_uri": "https://localhost:8080/"
        },
        "outputId": "fdf35e40-f865-4289-8ada-9c6d07709861"
      },
      "source": [
        "#updated classifer\n",
        "X = df3v1.loc[:,'NETGK':'NETOFFWIDTH'].values #independent variables\n",
        "Y = list(df3v1.RESULT.values) #dependent variables\n",
        "train_x, test_x, train_y, test_y = train_test_split(X,Y,test_size=0.3,random_state=0) #split data into training and test groups\n",
        "clf = LogisticRegression(class_weight='balanced',solver='lbfgs',multi_class='multinomial', max_iter=10000) #set classifier to multinomial logistic regression, change class_weight to balanced\n",
        "clf.fit(train_x, train_y) #train model\n",
        "print ('Accuracy: ' + str(clf.score(test_x, test_y)*100) + '%') #check model accuracy with test group"
      ],
      "execution_count": 94,
      "outputs": [
        {
          "output_type": "stream",
          "name": "stdout",
          "text": [
            "Accuracy: 50.168728908886386%\n"
          ]
        }
      ]
    },
    {
      "cell_type": "code",
      "metadata": {
        "id": "YwLP-kUUyV8x",
        "colab": {
          "base_uri": "https://localhost:8080/"
        },
        "outputId": "79589208-ac65-4517-81f0-e92a6b912569"
      },
      "source": [
        "y_pred=clf.predict(test_x)\n",
        "cnf_matrix = metrics.confusion_matrix(test_y, y_pred)\n",
        "cnf_matrix"
      ],
      "execution_count": 95,
      "outputs": [
        {
          "output_type": "execute_result",
          "data": {
            "text/plain": [
              "array([[136,  47,  58],\n",
              "       [ 94,  58,  92],\n",
              "       [ 87,  65, 252]])"
            ]
          },
          "metadata": {},
          "execution_count": 95
        }
      ]
    },
    {
      "cell_type": "code",
      "metadata": {
        "id": "GuTocxe2yV81",
        "colab": {
          "base_uri": "https://localhost:8080/",
          "height": 343
        },
        "outputId": "b0f0d6b6-9120-4e45-dd43-ae6ea945b4ed"
      },
      "source": [
        "class_names=[0,1,2] # name  of classes\n",
        "fig, ax = plt.subplots()\n",
        "tick_marks = np.arange(len(class_names))\n",
        "plt.xticks(tick_marks, class_names)\n",
        "plt.yticks(tick_marks, class_names)\n",
        "# create heatmap\n",
        "sns.heatmap(pd.DataFrame(cnf_matrix), annot=True, cmap=\"YlGnBu\" ,fmt='g')\n",
        "ax.xaxis.set_label_position(\"top\")\n",
        "plt.tight_layout()\n",
        "plt.title('Confusion matrix', y=1.1)\n",
        "plt.ylabel('Actual label')\n",
        "plt.xlabel('Predicted label')"
      ],
      "execution_count": 96,
      "outputs": [
        {
          "output_type": "execute_result",
          "data": {
            "text/plain": [
              "Text(0.5, 257.44, 'Predicted label')"
            ]
          },
          "metadata": {},
          "execution_count": 96
        },
        {
          "output_type": "display_data",
          "data": {
            "text/plain": [
              "<Figure size 432x288 with 2 Axes>"
            ],
            "image/png": "[encoded data removed]"
          },
          "metadata": {
            "needs_background": "light"
          }
        }
      ]
    },
    {
      "cell_type": "code",
      "metadata": {
        "id": "HzrNyB-_1ndq",
        "colab": {
          "base_uri": "https://localhost:8080/"
        },
        "outputId": "3803530d-e77a-4929-a67c-01e68b67cfb9"
      },
      "source": [
        "correct_loss_pred = 100*cnf_matrix[0][0]/(cnf_matrix[0][0]+cnf_matrix[0][1]+cnf_matrix[0][2])\n",
        "correct_draw_pred = 100*cnf_matrix[1][1]/(cnf_matrix[1][0]+cnf_matrix[1][1]+cnf_matrix[1][2])\n",
        "correct_win_pred = 100*cnf_matrix[2][2]/(cnf_matrix[2][0]+cnf_matrix[2][1]+cnf_matrix[2][2])\n",
        "print('Percentage of losses correctly classified: ' + str(correct_loss_pred) + '%')\n",
        "print('Percentage of draws correctly classified: ' + str(correct_draw_pred) + '%')\n",
        "print('Percentage of wins correctly classified: ' + str(correct_win_pred) + '%')"
      ],
      "execution_count": 97,
      "outputs": [
        {
          "output_type": "stream",
          "name": "stdout",
          "text": [
            "Percentage of losses correctly classified: 56.43153526970954%\n",
            "Percentage of draws correctly classified: 23.770491803278688%\n",
            "Percentage of wins correctly classified: 62.37623762376238%\n"
          ]
        }
      ]
    },
    {
      "cell_type": "code",
      "metadata": {
        "id": "DbJKAsTMyV84",
        "colab": {
          "base_uri": "https://localhost:8080/"
        },
        "outputId": "b793281b-3582-424d-d73c-a3d13c80fb76"
      },
      "source": [
        "for i in range(1, 9):\n",
        "  clf1 = LogisticRegression(class_weight = 'balanced',solver='lbfgs',multi_class='multinomial', max_iter=10000) #set classifier to multinomial logistic regression \n",
        "  rfe = RFE(estimator=clf1, n_features_to_select=i)   \n",
        "  fit = rfe.fit(train_x, train_y)\n",
        "  print('Num Features: '+ str(fit.n_features_))\n",
        "  print('Selected Features: ' + str(fit.support_))\n",
        "  print('Feature Ranking: ' + str(fit.ranking_))\n",
        "  print('Accuracy: '+str(fit.score(test_x, test_y)*100)+'%') #check model accuracy with test group"
      ],
      "execution_count": 98,
      "outputs": [
        {
          "output_type": "stream",
          "name": "stdout",
          "text": [
            "Num Features: 1\n",
            "Selected Features: [False False  True False False False False False]\n",
            "Feature Ranking: [8 6 1 7 3 4 5 2]\n",
            "Accuracy: 48.59392575928009%\n",
            "Num Features: 2\n",
            "Selected Features: [False False  True False False False False  True]\n",
            "Feature Ranking: [7 5 1 6 2 3 4 1]\n",
            "Accuracy: 48.031496062992126%\n",
            "Num Features: 3\n",
            "Selected Features: [False False  True False  True False False  True]\n",
            "Feature Ranking: [6 4 1 5 1 2 3 1]\n",
            "Accuracy: 47.80652418447694%\n",
            "Num Features: 4\n",
            "Selected Features: [False False  True False  True  True False  True]\n",
            "Feature Ranking: [5 3 1 4 1 1 2 1]\n",
            "Accuracy: 48.368953880764906%\n",
            "Num Features: 5\n",
            "Selected Features: [False False  True False  True  True  True  True]\n",
            "Feature Ranking: [4 2 1 3 1 1 1 1]\n",
            "Accuracy: 49.60629921259843%\n",
            "Num Features: 6\n",
            "Selected Features: [False  True  True False  True  True  True  True]\n",
            "Feature Ranking: [3 1 1 2 1 1 1 1]\n",
            "Accuracy: 50.0562429696288%\n",
            "Num Features: 7\n",
            "Selected Features: [False  True  True  True  True  True  True  True]\n",
            "Feature Ranking: [2 1 1 1 1 1 1 1]\n",
            "Accuracy: 50.95613048368954%\n",
            "Num Features: 8\n",
            "Selected Features: [ True  True  True  True  True  True  True  True]\n",
            "Feature Ranking: [1 1 1 1 1 1 1 1]\n",
            "Accuracy: 50.168728908886386%\n"
          ]
        }
      ]
    },
    {
      "cell_type": "code",
      "metadata": {
        "id": "t4iG2_sZyV85",
        "colab": {
          "base_uri": "https://localhost:8080/"
        },
        "outputId": "e17aabb6-b43a-43f7-9524-5ad75104cd3f"
      },
      "source": [
        "print('Coefficients: \\n', clf.coef_) "
      ],
      "execution_count": 99,
      "outputs": [
        {
          "output_type": "stream",
          "name": "stdout",
          "text": [
            "Coefficients: \n",
            " [[-0.00098598 -0.02122025 -0.07115892  0.00948014  0.03937184  0.00308555\n",
            "   0.02759197  0.0050177 ]\n",
            " [-0.0045712  -0.01003069  0.01907934 -0.00983387  0.06297628  0.03224094\n",
            "   0.01374375  0.04754781]\n",
            " [ 0.00555718  0.03125094  0.05207958  0.00035373 -0.10234812 -0.03532649\n",
            "  -0.04133572 -0.05256551]]\n"
          ]
        }
      ]
    },
    {
      "cell_type": "code",
      "metadata": {
        "id": "yyCcpUTMyV87",
        "colab": {
          "base_uri": "https://localhost:8080/",
          "height": 364
        },
        "outputId": "825a7594-8224-4c4f-82f3-c8de44ba6c2e"
      },
      "source": [
        "fig = plt.figure()\n",
        "ax = fig.add_axes([0,0,1,1])\n",
        "features = ['NETGK','NETDEF','NETMID',\t'NETOFF',\t'NETDEPTH',\t'NETDEFWIDTH','NETMIDWIDTH','NETOFFWIDTH']\n",
        "coefficients = [clf.coef_[0][0],clf.coef_[0][1],clf.coef_[0][2],clf.coef_[0][3],clf.coef_[0][4],clf.coef_[0][5],clf.coef_[0][6],clf.coef_[0][7]]\n",
        "ax.bar(features,coefficients)\n",
        "plt.title(\"Impact on Probability of Classifying a Match as a Loss\")\n",
        "plt.ylim(-0.2,0.2)\n",
        "plt.xlabel(\"Features\")\n",
        "plt.ylabel(\"Coefficients\")\n",
        "plt.rc('axes', titlesize=12)     # fontsize of the axes title\n",
        "plt.rc('axes', labelsize=12)    # fontsize of the x and y labels\n",
        "plt.rc('xtick', labelsize=6)    # fontsize of the tick labels\n",
        "plt.rc('ytick', labelsize=8)    # fontsize of the tick labels\n",
        "plt.show()"
      ],
      "execution_count": 100,
      "outputs": [
        {
          "output_type": "display_data",
          "data": {
            "text/plain": [
              "<Figure size 432x288 with 1 Axes>"
            ],
            "image/png": "[encoded data removed]"
          },
          "metadata": {
            "needs_background": "light"
          }
        }
      ]
    },
    {
      "cell_type": "code",
      "metadata": {
        "id": "l1sQZ57XyV89",
        "colab": {
          "base_uri": "https://localhost:8080/",
          "height": 364
        },
        "outputId": "8ad39e6d-d56c-4b25-cca5-93bc92b3bc7d"
      },
      "source": [
        "fig = plt.figure()\n",
        "ax = fig.add_axes([0,0,1,1])\n",
        "features = ['NETGK','NETDEF','NETMID',\t'NETOFF',\t'NETDEPTH',\t'NETDEFWIDTH','NETMIDWIDTH','NETOFFWIDTH']\n",
        "coefficients = [clf.coef_[1][0],clf.coef_[1][1],clf.coef_[1][2],clf.coef_[1][3],clf.coef_[1][4],clf.coef_[1][5],clf.coef_[1][6],clf.coef_[1][7]]\n",
        "ax.bar(features,coefficients)\n",
        "plt.title(\"Impact on Probability of Classifying a Match as a Draw\")\n",
        "plt.ylim(-0.2,0.2)\n",
        "plt.xlabel(\"Features\")\n",
        "plt.ylabel(\"Coefficients\")\n",
        "plt.rc('axes', titlesize=12)     # fontsize of the axes title\n",
        "plt.rc('axes', labelsize=12)    # fontsize of the x and y labels\n",
        "plt.rc('xtick', labelsize=6)    # fontsize of the tick labels\n",
        "plt.rc('ytick', labelsize=8)    # fontsize of the tick labels\n",
        "plt.show()"
      ],
      "execution_count": 101,
      "outputs": [
        {
          "output_type": "display_data",
          "data": {
            "text/plain": [
              "<Figure size 432x288 with 1 Axes>"
            ],
            "image/png": "[encoded data removed]"
          },
          "metadata": {
            "needs_background": "light"
          }
        }
      ]
    },
    {
      "cell_type": "code",
      "metadata": {
        "id": "T1JZK8IvyV8-",
        "colab": {
          "base_uri": "https://localhost:8080/",
          "height": 364
        },
        "outputId": "8f67decb-24f9-43a1-ff25-c1199e0a2ec9"
      },
      "source": [
        "fig = plt.figure()\n",
        "ax = fig.add_axes([0,0,1,1])\n",
        "features = ['NETGK','NETDEF','NETMID',\t'NETOFF',\t'NETDEPTH',\t'NETDEFWIDTH','NETMIDWIDTH','NETOFFWIDTH']\n",
        "coefficients = [clf.coef_[2][0],clf.coef_[2][1],clf.coef_[2][2],clf.coef_[2][3],clf.coef_[2][4],clf.coef_[2][5],clf.coef_[2][6],clf.coef_[2][7]]\n",
        "ax.bar(features,coefficients)\n",
        "plt.title(\"Impact on Probability of Classifying a Match as a Win\")\n",
        "plt.ylim(-0.2,0.2)\n",
        "plt.xlabel(\"Features\")\n",
        "plt.ylabel(\"Coefficients\")\n",
        "plt.rc('axes', titlesize=12)     # fontsize of the axes title\n",
        "plt.rc('axes', labelsize=12)    # fontsize of the x and y labels\n",
        "plt.rc('xtick', labelsize=6)    # fontsize of the tick labels\n",
        "plt.rc('ytick', labelsize=8)    # fontsize of the tick labels\n",
        "plt.show()"
      ],
      "execution_count": 102,
      "outputs": [
        {
          "output_type": "display_data",
          "data": {
            "text/plain": [
              "<Figure size 432x288 with 1 Axes>"
            ],
            "image/png": "[encoded data removed]"
          },
          "metadata": {
            "needs_background": "light"
          }
        }
      ]
    },
    {
      "cell_type": "code",
      "metadata": {
        "id": "WvMaSdPlOzkQ",
        "colab": {
          "base_uri": "https://localhost:8080/",
          "height": 206
        },
        "outputId": "82d8d012-29b7-45de-db5b-a902820a7500"
      },
      "source": [
        "#final calculation method\n",
        "column_names = [\"GK\",\"AGK\",\"NETDEF\",\"NETMID\", \"NETOFF\", \"NETDEPTH\", \"NETDEFWIDTH\", \"NETMIDWIDTH\",\"NETOFFWIDTH\",\"RESULT\" ]\n",
        "df3=pd.DataFrame(index=range(2962),columns=range(10)) #df for goalkeepr ratings, net positional ratings, net depth, net widths, adnd result for each match\n",
        "df3.columns=column_names\n",
        "df3['GK']=df2['GK'] #add home goalkeeper rating from df2 into df3\n",
        "df3['AGK']=df2['AGK'] # add away  rating from df2 into df3\n",
        "df3['NETDEF']=df2['DEF']-df2['AOFF'] #add net defense into df3 by subtracting away offense from home defense in df2 \n",
        "df3['NETMID']=df2['MID']-df2['AMID'] #add net midfield into df3 by subtracting away midfield from home midfield in df2 \n",
        "df3['NETOFF']=df2['OFF']-df2['ADEF'] #add net offense into df3 by subtracting away defense from home offense in df2 \n",
        "df3['NETDEPTH']=df2['DEPTH']-df2['ADEPTH'] #add net depth into df3 by subtracting away depth from home depth in df2 \n",
        "df3['NETDEFWIDTH']=df2['DEFWIDTH']-df2['AOFFWIDTH'] #add net defense width into df3 by subtracting away offense width from home defense width\n",
        "df3['NETMIDWIDTH']=df2['MIDWIDTH']-df2['AMIDWIDTH'] #add net midfield width df3 by subtracting away midfield width from home midfield width in df2 \n",
        "df3['NETOFFWIDTH']=df2['OFFWIDTH']-df2['ADEFWIDTH'] #add net offense width into df3 by subtracting away defense width from home offense width in df2 \n",
        "df3['RESULT']=df2['RESULT'] #add result from df2 into df3\n",
        "df3.head()"
      ],
      "execution_count": 103,
      "outputs": [
        {
          "output_type": "execute_result",
          "data": {
            "text/plain": [
              "   GK  AGK  NETDEF  NETMID  NETOFF  NETDEPTH  NETDEFWIDTH  NETMIDWIDTH  \\\n",
              "0  85   82      -1      12       5        -1            5            0   \n",
              "1  75   77      10       5      11         0            2            2   \n",
              "2  78   84     -16      -4      -1         0            4            0   \n",
              "3  77   77       3       3       3         0            4            0   \n",
              "4  79   81       0      -2       4         0            5            4   \n",
              "\n",
              "   NETOFFWIDTH  RESULT  \n",
              "0           -4       1  \n",
              "1           -4       2  \n",
              "2           -4       0  \n",
              "3           -4       2  \n",
              "4           -5       0  "
            ],
            "text/html": [
              "\n",
              "  <div id=\"df-2bbf2fd5-fba4-4da9-9eca-91153b0d33f1\">\n",
              "    <div class=\"colab-df-container\">\n",
              "      <div>\n",
              "<style scoped>\n",
              "    .dataframe tbody tr th:only-of-type {\n",
              "        vertical-align: middle;\n",
              "    }\n",
              "\n",
              "    .dataframe tbody tr th {\n",
              "        vertical-align: top;\n",
              "    }\n",
              "\n",
              "    .dataframe thead th {\n",
              "        text-align: right;\n",
              "    }\n",
              "</style>\n",
              "<table border=\"1\" class=\"dataframe\">\n",
              "  <thead>\n",
              "    <tr style=\"text-align: right;\">\n",
              "      <th></th>\n",
              "      <th>GK</th>\n",
              "      <th>AGK</th>\n",
              "      <th>NETDEF</th>\n",
              "      <th>NETMID</th>\n",
              "      <th>NETOFF</th>\n",
              "      <th>NETDEPTH</th>\n",
              "      <th>NETDEFWIDTH</th>\n",
              "      <th>NETMIDWIDTH</th>\n",
              "      <th>NETOFFWIDTH</th>\n",
              "      <th>RESULT</th>\n",
              "    </tr>\n",
              "  </thead>\n",
              "  <tbody>\n",
              "    <tr>\n",
              "      <th>0</th>\n",
              "      <td>85</td>\n",
              "      <td>82</td>\n",
              "      <td>-1</td>\n",
              "      <td>12</td>\n",
              "      <td>5</td>\n",
              "      <td>-1</td>\n",
              "      <td>5</td>\n",
              "      <td>0</td>\n",
              "      <td>-4</td>\n",
              "      <td>1</td>\n",
              "    </tr>\n",
              "    <tr>\n",
              "      <th>1</th>\n",
              "      <td>75</td>\n",
              "      <td>77</td>\n",
              "      <td>10</td>\n",
              "      <td>5</td>\n",
              "      <td>11</td>\n",
              "      <td>0</td>\n",
              "      <td>2</td>\n",
              "      <td>2</td>\n",
              "      <td>-4</td>\n",
              "      <td>2</td>\n",
              "    </tr>\n",
              "    <tr>\n",
              "      <th>2</th>\n",
              "      <td>78</td>\n",
              "      <td>84</td>\n",
              "      <td>-16</td>\n",
              "      <td>-4</td>\n",
              "      <td>-1</td>\n",
              "      <td>0</td>\n",
              "      <td>4</td>\n",
              "      <td>0</td>\n",
              "      <td>-4</td>\n",
              "      <td>0</td>\n",
              "    </tr>\n",
              "    <tr>\n",
              "      <th>3</th>\n",
              "      <td>77</td>\n",
              "      <td>77</td>\n",
              "      <td>3</td>\n",
              "      <td>3</td>\n",
              "      <td>3</td>\n",
              "      <td>0</td>\n",
              "      <td>4</td>\n",
              "      <td>0</td>\n",
              "      <td>-4</td>\n",
              "      <td>2</td>\n",
              "    </tr>\n",
              "    <tr>\n",
              "      <th>4</th>\n",
              "      <td>79</td>\n",
              "      <td>81</td>\n",
              "      <td>0</td>\n",
              "      <td>-2</td>\n",
              "      <td>4</td>\n",
              "      <td>0</td>\n",
              "      <td>5</td>\n",
              "      <td>4</td>\n",
              "      <td>-5</td>\n",
              "      <td>0</td>\n",
              "    </tr>\n",
              "  </tbody>\n",
              "</table>\n",
              "</div>\n",
              "      <button class=\"colab-df-convert\" onclick=\"convertToInteractive('df-2bbf2fd5-fba4-4da9-9eca-91153b0d33f1')\"\n",
              "              title=\"Convert this dataframe to an interactive table.\"\n",
              "              style=\"display:none;\">\n",
              "        \n",
              "  <svg xmlns=\"http://www.w3.org/2000/svg\" height=\"24px\"viewBox=\"0 0 24 24\"\n",
              "       width=\"24px\">\n",
              "    <path d=\"M0 0h24v24H0V0z\" fill=\"none\"/>\n",
              "    <path d=\"M18.56 5.44l.94 2.06.94-2.06 2.06-.94-2.06-.94-.94-2.06-.94 2.06-2.06.94zm-11 1L8.5 8.5l.94-2.06 2.06-.94-2.06-.94L8.5 2.5l-.94 2.06-2.06.94zm10 10l.94 2.06.94-2.06 2.06-.94-2.06-.94-.94-2.06-.94 2.06-2.06.94z\"/><path d=\"M17.41 7.96l-1.37-1.37c-.4-.4-.92-.59-1.43-.59-.52 0-1.04.2-1.43.59L10.3 9.45l-7.72 7.72c-.78.78-.78 2.05 0 2.83L4 21.41c.39.39.9.59 1.41.59.51 0 1.02-.2 1.41-.59l7.78-7.78 2.81-2.81c.8-.78.8-2.07 0-2.86zM5.41 20L4 18.59l7.72-7.72 1.47 1.35L5.41 20z\"/>\n",
              "  </svg>\n",
              "      </button>\n",
              "      \n",
              "  <style>\n",
              "    .colab-df-container {\n",
              "      display:flex;\n",
              "      flex-wrap:wrap;\n",
              "      gap: 12px;\n",
              "    }\n",
              "\n",
              "    .colab-df-convert {\n",
              "      background-color: #E8F0FE;\n",
              "      border: none;\n",
              "      border-radius: 50%;\n",
              "      cursor: pointer;\n",
              "      display: none;\n",
              "      fill: #1967D2;\n",
              "      height: 32px;\n",
              "      padding: 0 0 0 0;\n",
              "      width: 32px;\n",
              "    }\n",
              "\n",
              "    .colab-df-convert:hover {\n",
              "      background-color: #E2EBFA;\n",
              "      box-shadow: 0px 1px 2px rgba(60, 64, 67, 0.3), 0px 1px 3px 1px rgba(60, 64, 67, 0.15);\n",
              "      fill: #174EA6;\n",
              "    }\n",
              "\n",
              "    [theme=dark] .colab-df-convert {\n",
              "      background-color: #3B4455;\n",
              "      fill: #D2E3FC;\n",
              "    }\n",
              "\n",
              "    [theme=dark] .colab-df-convert:hover {\n",
              "      background-color: #434B5C;\n",
              "      box-shadow: 0px 1px 3px 1px rgba(0, 0, 0, 0.15);\n",
              "      filter: drop-shadow(0px 1px 2px rgba(0, 0, 0, 0.3));\n",
              "      fill: #FFFFFF;\n",
              "    }\n",
              "  </style>\n",
              "\n",
              "      <script>\n",
              "        const buttonEl =\n",
              "          document.querySelector('#df-2bbf2fd5-fba4-4da9-9eca-91153b0d33f1 button.colab-df-convert');\n",
              "        buttonEl.style.display =\n",
              "          google.colab.kernel.accessAllowed ? 'block' : 'none';\n",
              "\n",
              "        async function convertToInteractive(key) {\n",
              "          const element = document.querySelector('#df-2bbf2fd5-fba4-4da9-9eca-91153b0d33f1');\n",
              "          const dataTable =\n",
              "            await google.colab.kernel.invokeFunction('convertToInteractive',\n",
              "                                                     [key], {});\n",
              "          if (!dataTable) return;\n",
              "\n",
              "          const docLinkHtml = 'Like what you see? Visit the ' +\n",
              "            '<a target=\"_blank\" href=https://colab.research.google.com/notebooks/data_table.ipynb>data table notebook</a>'\n",
              "            + ' to learn more about interactive tables.';\n",
              "          element.innerHTML = '';\n",
              "          dataTable['output_type'] = 'display_data';\n",
              "          await google.colab.output.renderOutput(dataTable, element);\n",
              "          const docLink = document.createElement('div');\n",
              "          docLink.innerHTML = docLinkHtml;\n",
              "          element.appendChild(docLink);\n",
              "        }\n",
              "      </script>\n",
              "    </div>\n",
              "  </div>\n",
              "  "
            ]
          },
          "metadata": {},
          "execution_count": 103
        }
      ]
    },
    {
      "cell_type": "code",
      "metadata": {
        "id": "CNrw5DUUQA1f",
        "colab": {
          "base_uri": "https://localhost:8080/"
        },
        "outputId": "5bc1e23d-ebc0-43dc-e345-358feb5d87e3"
      },
      "source": [
        "#final model\n",
        "X = df3.loc[:,'GK':'NETOFFWIDTH'].values #independent variables\n",
        "Y = list(df3.RESULT.values) #dependent variables\n",
        "train_x, test_x, train_y, test_y = train_test_split(X,Y,test_size=0.3,random_state=0) #split data into training and test groups\n",
        "clf = LogisticRegression(class_weight='balanced',solver='lbfgs',multi_class='multinomial', max_iter=10000) #set classifier to multinomial logistic regression\n",
        "clf.fit(train_x, train_y) #train model\n",
        "print ('Accuracy: ' + str(clf.score(test_x, test_y)*100) + '%') #check model accuracy with test group"
      ],
      "execution_count": 104,
      "outputs": [
        {
          "output_type": "stream",
          "name": "stdout",
          "text": [
            "Accuracy: 49.9437570303712%\n"
          ]
        }
      ]
    },
    {
      "cell_type": "code",
      "metadata": {
        "id": "OZLTWmB6uXhD",
        "colab": {
          "base_uri": "https://localhost:8080/"
        },
        "outputId": "a206023e-4e13-4b75-9dd9-8ef1fcb225b2"
      },
      "source": [
        "y_pred=clf.predict(test_x)\n",
        "cnf_matrix = metrics.confusion_matrix(test_y, y_pred)\n",
        "cnf_matrix"
      ],
      "execution_count": 105,
      "outputs": [
        {
          "output_type": "execute_result",
          "data": {
            "text/plain": [
              "array([[135,  49,  57],\n",
              "       [ 95,  62,  87],\n",
              "       [ 88,  69, 247]])"
            ]
          },
          "metadata": {},
          "execution_count": 105
        }
      ]
    },
    {
      "cell_type": "code",
      "metadata": {
        "id": "RCyQ7b3RvInF",
        "colab": {
          "base_uri": "https://localhost:8080/",
          "height": 344
        },
        "outputId": "965ab379-74fd-4cc4-eefe-39305823d8c5"
      },
      "source": [
        "class_names=[0,1,2] # name  of classes\n",
        "fig, ax = plt.subplots()\n",
        "tick_marks = np.arange(len(class_names))\n",
        "plt.xticks(tick_marks, class_names)\n",
        "plt.yticks(tick_marks, class_names)\n",
        "# create heatmap\n",
        "sns.heatmap(pd.DataFrame(cnf_matrix), annot=True, cmap=\"YlGnBu\" ,fmt='g')\n",
        "ax.xaxis.set_label_position(\"top\")\n",
        "plt.tight_layout()\n",
        "plt.title('Confusion matrix', y=1.1)\n",
        "plt.ylabel('Actual label')\n",
        "plt.xlabel('Predicted label')"
      ],
      "execution_count": 106,
      "outputs": [
        {
          "output_type": "execute_result",
          "data": {
            "text/plain": [
              "Text(0.5, 257.44, 'Predicted label')"
            ]
          },
          "metadata": {},
          "execution_count": 106
        },
        {
          "output_type": "display_data",
          "data": {
            "text/plain": [
              "<Figure size 432x288 with 2 Axes>"
            ],
            "image/png": "[encoded data removed]"
          },
          "metadata": {
            "needs_background": "light"
          }
        }
      ]
    },
    {
      "cell_type": "code",
      "metadata": {
        "id": "lq0X6neV1qut",
        "colab": {
          "base_uri": "https://localhost:8080/"
        },
        "outputId": "28fac65c-b91d-45be-d850-352bbfa51f05"
      },
      "source": [
        "correct_loss_pred = 100*cnf_matrix[0][0]/(cnf_matrix[0][0]+cnf_matrix[0][1]+cnf_matrix[0][2])\n",
        "correct_draw_pred = 100*cnf_matrix[1][1]/(cnf_matrix[1][0]+cnf_matrix[1][1]+cnf_matrix[1][2])\n",
        "correct_win_pred = 100*cnf_matrix[2][2]/(cnf_matrix[2][0]+cnf_matrix[2][1]+cnf_matrix[2][2])\n",
        "print('Percentage of losses correctly classified: ' + str(correct_loss_pred) + '%')\n",
        "print('Percentage of draws correctly classified: ' + str(correct_draw_pred) + '%')\n",
        "print('Percentage of wins correctly classifed: ' + str(correct_win_pred) + '%')"
      ],
      "execution_count": 107,
      "outputs": [
        {
          "output_type": "stream",
          "name": "stdout",
          "text": [
            "Percentage of losses correctly classified: 56.016597510373444%\n",
            "Percentage of draws correctly classified: 25.40983606557377%\n",
            "Percentage of wins correctly classifed: 61.13861386138614%\n"
          ]
        }
      ]
    },
    {
      "cell_type": "code",
      "metadata": {
        "id": "jAX_mm0LR8dU",
        "colab": {
          "base_uri": "https://localhost:8080/"
        },
        "outputId": "b7b00294-3ae9-4659-8308-2ab1d7066c18"
      },
      "source": [
        "for i in range(1, 10):\n",
        "  clf1 = LogisticRegression(class_weight = 'balanced',solver='lbfgs',multi_class='multinomial', max_iter=10000) #set classifier to multinomial logistic regression \n",
        "  rfe = RFE(estimator=clf1, n_features_to_select=i)   \n",
        "  fit = rfe.fit(train_x, train_y)\n",
        "  print('Num Features: '+ str(fit.n_features_))\n",
        "  print('Selected Features: ' + str(fit.support_))\n",
        "  print('Feature Ranking: ' + str(fit.ranking_))\n",
        "  print('Accuracy: '+str(fit.score(test_x, test_y)*100)+'%') #check model accuracy with test group"
      ],
      "execution_count": 108,
      "outputs": [
        {
          "output_type": "stream",
          "name": "stdout",
          "text": [
            "Num Features: 1\n",
            "Selected Features: [False False False  True False False False False False]\n",
            "Feature Ranking: [9 7 8 1 6 3 2 4 5]\n",
            "Accuracy: 48.59392575928009%\n",
            "Num Features: 2\n",
            "Selected Features: [False False False  True False False  True False False]\n",
            "Feature Ranking: [8 6 7 1 5 2 1 3 4]\n",
            "Accuracy: 48.818897637795274%\n",
            "Num Features: 3\n",
            "Selected Features: [False False False  True False  True  True False False]\n",
            "Feature Ranking: [7 5 6 1 4 1 1 2 3]\n",
            "Accuracy: 48.4814398200225%\n",
            "Num Features: 4\n",
            "Selected Features: [False False False  True False  True  True  True False]\n",
            "Feature Ranking: [6 4 5 1 3 1 1 1 2]\n",
            "Accuracy: 49.38132733408324%\n",
            "Num Features: 5\n",
            "Selected Features: [False False False  True False  True  True  True  True]\n",
            "Feature Ranking: [5 3 4 1 2 1 1 1 1]\n",
            "Accuracy: 49.493813273340834%\n",
            "Num Features: 6\n",
            "Selected Features: [False False False  True  True  True  True  True  True]\n",
            "Feature Ranking: [4 2 3 1 1 1 1 1 1]\n",
            "Accuracy: 50.168728908886386%\n",
            "Num Features: 7\n",
            "Selected Features: [False  True False  True  True  True  True  True  True]\n",
            "Feature Ranking: [3 1 2 1 1 1 1 1 1]\n",
            "Accuracy: 49.26884139482565%\n",
            "Num Features: 8\n",
            "Selected Features: [False  True  True  True  True  True  True  True  True]\n",
            "Feature Ranking: [2 1 1 1 1 1 1 1 1]\n",
            "Accuracy: 49.9437570303712%\n",
            "Num Features: 9\n",
            "Selected Features: [ True  True  True  True  True  True  True  True  True]\n",
            "Feature Ranking: [1 1 1 1 1 1 1 1 1]\n",
            "Accuracy: 49.9437570303712%\n"
          ]
        }
      ]
    },
    {
      "cell_type": "code",
      "metadata": {
        "id": "tYU4TwEerrIc",
        "colab": {
          "base_uri": "https://localhost:8080/"
        },
        "outputId": "d49f4486-0004-4769-d8a3-7ff6069599ad"
      },
      "source": [
        "print('Coefficients: \\n', clf.coef_) #negative coeff = increase in the independent variable = decrease in probability of predicting the dependent variable \n",
        "#positive coeff = increase in the independent variable = increase in probability of predicting the dependent variable"
      ],
      "execution_count": 109,
      "outputs": [
        {
          "output_type": "stream",
          "name": "stdout",
          "text": [
            "Coefficients: \n",
            " [[-0.00175815  0.00413117 -0.00503103 -0.07529391  0.00283898  0.03249421\n",
            "  -0.01613427  0.02664228  0.01501006]\n",
            " [-0.00117088  0.0087572  -0.0024664   0.01843164 -0.01676074  0.0524531\n",
            "   0.06323755  0.01198588  0.02033388]\n",
            " [ 0.00292903 -0.01288837  0.00749743  0.05686227  0.01392177 -0.08494731\n",
            "  -0.04710328 -0.03862816 -0.03534394]]\n"
          ]
        }
      ]
    },
    {
      "cell_type": "code",
      "metadata": {
        "id": "e07oO9oCxN44",
        "colab": {
          "base_uri": "https://localhost:8080/",
          "height": 364
        },
        "outputId": "8ef3c5cc-ebea-451d-9e77-4b9172b8dd3d"
      },
      "source": [
        "fig = plt.figure()\n",
        "ax = fig.add_axes([0,0,1,1])\n",
        "features = ['GK','AGK',\t'NETDEF','NETMID',\t'NETOFF',\t'NETDEPTH',\t'NETDEFWIDTH','NETMIDWIDTH','NETOFFWIDTH']\n",
        "coefficients = [clf.coef_[0][0],clf.coef_[0][1],clf.coef_[0][2],clf.coef_[0][3],clf.coef_[0][4],clf.coef_[0][5],clf.coef_[0][6],clf.coef_[0][7],clf.coef_[0][8]]\n",
        "ax.bar(features,coefficients)\n",
        "plt.title(\"Impact on Probability of Classifying a Match as a Loss\")\n",
        "plt.ylim(-0.2,0.2)\n",
        "plt.xlabel(\"Features\")\n",
        "plt.ylabel(\"Coefficients\")\n",
        "plt.rc('axes', titlesize=12)     # fontsize of the axes title\n",
        "plt.rc('axes', labelsize=12)    # fontsize of the x and y labels\n",
        "plt.rc('xtick', labelsize=6)    # fontsize of the tick labels\n",
        "plt.rc('ytick', labelsize=8)    # fontsize of the tick labels\n",
        "plt.show()"
      ],
      "execution_count": 110,
      "outputs": [
        {
          "output_type": "display_data",
          "data": {
            "text/plain": [
              "<Figure size 432x288 with 1 Axes>"
            ],
            "image/png": "[encoded data removed]"
          },
          "metadata": {
            "needs_background": "light"
          }
        }
      ]
    },
    {
      "cell_type": "code",
      "metadata": {
        "id": "oQZFP49Zy7w4",
        "colab": {
          "base_uri": "https://localhost:8080/",
          "height": 364
        },
        "outputId": "9dc13270-8146-4608-a14e-2f1bce317e8f"
      },
      "source": [
        "fig = plt.figure()\n",
        "ax = fig.add_axes([0,0,1,1])\n",
        "features = ['GK','AGK','NETDEF',\t'NETMID',\t'NETOFF',\t'NETDEPTH',\t'NETDEFWIDTH','NETMIDWIDTH','NETOFFWIDTH']\n",
        "coefficients = [clf.coef_[1][0],clf.coef_[1][1],clf.coef_[1][2],clf.coef_[1][3],clf.coef_[1][4],clf.coef_[1][5],clf.coef_[1][6],clf.coef_[1][7],clf.coef_[1][8]]\n",
        "ax.bar(features,coefficients)\n",
        "plt.title(\"Impact on Probability of Classifying a Match as a Draw\")\n",
        "plt.ylim(-0.2,0.2)\n",
        "plt.xlabel(\"Features\")\n",
        "plt.ylabel(\"Coefficients\")\n",
        "plt.rc('axes', titlesize=12)     # fontsize of the axes title\n",
        "plt.rc('axes', labelsize=12)    # fontsize of the x and y labels\n",
        "plt.rc('xtick', labelsize=6)    # fontsize of the tick labels\n",
        "plt.rc('ytick', labelsize=8)    # fontsize of the tick labels\n",
        "plt.show()"
      ],
      "execution_count": 111,
      "outputs": [
        {
          "output_type": "display_data",
          "data": {
            "text/plain": [
              "<Figure size 432x288 with 1 Axes>"
            ],
            "image/png": "[encoded data removed]"
          },
          "metadata": {
            "needs_background": "light"
          }
        }
      ]
    },
    {
      "cell_type": "code",
      "metadata": {
        "id": "jr4fGhq6zJHQ",
        "colab": {
          "base_uri": "https://localhost:8080/",
          "height": 364
        },
        "outputId": "89283733-9be3-43a6-8e16-5f276af915eb"
      },
      "source": [
        "fig = plt.figure()\n",
        "ax = fig.add_axes([0,0,1,1])\n",
        "features = ('GK','AGK','NETDEF',\t'NETMID',\t'NETOFF',\t'NETDEPTH',\t'NETDEFWIDTH','NETMIDWIDTH','NETOFFWIDTH')\n",
        "coefficients = [clf.coef_[2][0],clf.coef_[2][1],clf.coef_[2][2],clf.coef_[2][3],clf.coef_[2][4],clf.coef_[2][5],clf.coef_[2][6],clf.coef_[2][7],clf.coef_[2][8]]\n",
        "ax.bar(features,coefficients)\n",
        "plt.title(\"Impact on Probability of Classifying a Match as a Win\")\n",
        "plt.ylim(-0.2,0.2)\n",
        "plt.xlabel(\"Features\")\n",
        "plt.ylabel(\"Coefficients\")\n",
        "plt.rc('axes', titlesize=12)     # fontsize of the axes title\n",
        "plt.rc('axes', labelsize=12)    # fontsize of the x and y labels\n",
        "plt.rc('xtick', labelsize=6)    # fontsize of the tick labels\n",
        "plt.rc('ytick', labelsize=8)    # fontsize of the tick labels\n",
        "plt.show()"
      ],
      "execution_count": 112,
      "outputs": [
        {
          "output_type": "display_data",
          "data": {
            "text/plain": [
              "<Figure size 432x288 with 1 Axes>"
            ],
            "image/png": "[encoded data removed]"
          },
          "metadata": {
            "needs_background": "light"
          }
        }
      ]
    },
    {
      "cell_type": "code",
      "metadata": {
        "id": "qCun5B7iAxgm",
        "colab": {
          "base_uri": "https://localhost:8080/"
        },
        "outputId": "8bb7f420-23e5-476d-ffb5-53c99854d2c0"
      },
      "source": [
        "#experimental classifier 1\n",
        "X = df3.loc[:,'GK':'NETOFFWIDTH'].values #independent variables\n",
        "Y = list(df3.RESULT.values) #dependent variables\n",
        "train_x, test_x, train_y, test_y = train_test_split(X,Y,test_size=0.3,random_state=0) #split data into training and test groups\n",
        "clf = LogisticRegression(class_weight='balanced',solver='lbfgs',multi_class='ovr', max_iter=10000) #set classifier to multinomial logistic regression, change multi_class to ovr (one vs rest)\n",
        "clf.fit(train_x, train_y) #train model\n",
        "print ('Accuracy: ' + str(clf.score(test_x, test_y)*100) + '%') #check model accuracy with test group"
      ],
      "execution_count": 113,
      "outputs": [
        {
          "output_type": "stream",
          "name": "stdout",
          "text": [
            "Accuracy: 50.73115860517435%\n"
          ]
        }
      ]
    },
    {
      "cell_type": "code",
      "metadata": {
        "id": "duEG-EL0Axgw",
        "colab": {
          "base_uri": "https://localhost:8080/"
        },
        "outputId": "d4ad3d0e-e482-4574-8cd7-eafd32a260b5"
      },
      "source": [
        "y_pred=clf.predict(test_x)\n",
        "cnf_matrix = metrics.confusion_matrix(test_y, y_pred)\n",
        "cnf_matrix"
      ],
      "execution_count": 114,
      "outputs": [
        {
          "output_type": "execute_result",
          "data": {
            "text/plain": [
              "array([[141,  35,  65],\n",
              "       [100,  45,  99],\n",
              "       [ 98,  41, 265]])"
            ]
          },
          "metadata": {},
          "execution_count": 114
        }
      ]
    },
    {
      "cell_type": "code",
      "metadata": {
        "id": "JRap8agFAxgw",
        "colab": {
          "base_uri": "https://localhost:8080/",
          "height": 344
        },
        "outputId": "8db6ac3a-1aa6-4cfc-ab42-cc42550546f1"
      },
      "source": [
        "class_names=[0,1,2] # name  of classes\n",
        "fig, ax = plt.subplots()\n",
        "tick_marks = np.arange(len(class_names))\n",
        "plt.xticks(tick_marks, class_names)\n",
        "plt.yticks(tick_marks, class_names)\n",
        "# create heatmap\n",
        "sns.heatmap(pd.DataFrame(cnf_matrix), annot=True, cmap=\"YlGnBu\" ,fmt='g')\n",
        "ax.xaxis.set_label_position(\"top\")\n",
        "plt.tight_layout()\n",
        "plt.title('Confusion matrix', y=1.1)\n",
        "plt.ylabel('Actual label')\n",
        "plt.xlabel('Predicted label')"
      ],
      "execution_count": 115,
      "outputs": [
        {
          "output_type": "execute_result",
          "data": {
            "text/plain": [
              "Text(0.5, 257.44, 'Predicted label')"
            ]
          },
          "metadata": {},
          "execution_count": 115
        },
        {
          "output_type": "display_data",
          "data": {
            "text/plain": [
              "<Figure size 432x288 with 2 Axes>"
            ],
            "image/png": "[encoded data removed]"
          },
          "metadata": {
            "needs_background": "light"
          }
        }
      ]
    },
    {
      "cell_type": "code",
      "metadata": {
        "id": "c8kCE6wcAxgx",
        "colab": {
          "base_uri": "https://localhost:8080/"
        },
        "outputId": "19465844-d06e-4a2f-921f-dae7f0ca12d2"
      },
      "source": [
        "correct_loss_pred = 100*cnf_matrix[0][0]/(cnf_matrix[0][0]+cnf_matrix[0][1]+cnf_matrix[0][2])\n",
        "correct_draw_pred = 100*cnf_matrix[1][1]/(cnf_matrix[1][0]+cnf_matrix[1][1]+cnf_matrix[1][2])\n",
        "correct_win_pred = 100*cnf_matrix[2][2]/(cnf_matrix[2][0]+cnf_matrix[2][1]+cnf_matrix[2][2])\n",
        "print('Percentage of losses correctly classified: ' + str(correct_loss_pred) + '%')\n",
        "print('Percentage of draws correctly classified: ' + str(correct_draw_pred) + '%')\n",
        "print('Percentage of wins correctly classified: ' + str(correct_win_pred) + '%')"
      ],
      "execution_count": 116,
      "outputs": [
        {
          "output_type": "stream",
          "name": "stdout",
          "text": [
            "Percentage of losses correctly classified: 58.50622406639004%\n",
            "Percentage of draws correctly classified: 18.442622950819672%\n",
            "Percentage of wins correctly classified: 65.5940594059406%\n"
          ]
        }
      ]
    },
    {
      "cell_type": "code",
      "metadata": {
        "id": "0MZSQY-HAxgx",
        "colab": {
          "base_uri": "https://localhost:8080/"
        },
        "outputId": "45b1fe31-0517-4790-ca24-11ec2fb2e802"
      },
      "source": [
        "for i in range(1, 10):\n",
        "  clf1 = LogisticRegression(class_weight = 'balanced',solver='lbfgs',multi_class='multinomial', max_iter=10000) #set classifier to multinomial logistic regression \n",
        "  rfe = RFE(estimator=clf1, n_features_to_select=i)\n",
        "  fit = rfe.fit(train_x, train_y)\n",
        "  print('Num Features: '+ str(fit.n_features_))\n",
        "  print('Selected Features: ' + str(fit.support_))\n",
        "  print('Feature Ranking: ' + str(fit.ranking_))\n",
        "  print('Accuracy: '+str(fit.score(test_x, test_y)*100)+'%') #check model accuracy with test group"
      ],
      "execution_count": 117,
      "outputs": [
        {
          "output_type": "stream",
          "name": "stdout",
          "text": [
            "Num Features: 1\n",
            "Selected Features: [False False False  True False False False False False]\n",
            "Feature Ranking: [9 7 8 1 6 3 2 4 5]\n",
            "Accuracy: 48.59392575928009%\n",
            "Num Features: 2\n",
            "Selected Features: [False False False  True False False  True False False]\n",
            "Feature Ranking: [8 6 7 1 5 2 1 3 4]\n",
            "Accuracy: 48.818897637795274%\n",
            "Num Features: 3\n",
            "Selected Features: [False False False  True False  True  True False False]\n",
            "Feature Ranking: [7 5 6 1 4 1 1 2 3]\n",
            "Accuracy: 48.4814398200225%\n",
            "Num Features: 4\n",
            "Selected Features: [False False False  True False  True  True  True False]\n",
            "Feature Ranking: [6 4 5 1 3 1 1 1 2]\n",
            "Accuracy: 49.38132733408324%\n",
            "Num Features: 5\n",
            "Selected Features: [False False False  True False  True  True  True  True]\n",
            "Feature Ranking: [5 3 4 1 2 1 1 1 1]\n",
            "Accuracy: 49.493813273340834%\n",
            "Num Features: 6\n",
            "Selected Features: [False False False  True  True  True  True  True  True]\n",
            "Feature Ranking: [4 2 3 1 1 1 1 1 1]\n",
            "Accuracy: 50.168728908886386%\n",
            "Num Features: 7\n",
            "Selected Features: [False  True False  True  True  True  True  True  True]\n",
            "Feature Ranking: [3 1 2 1 1 1 1 1 1]\n",
            "Accuracy: 49.26884139482565%\n",
            "Num Features: 8\n",
            "Selected Features: [False  True  True  True  True  True  True  True  True]\n",
            "Feature Ranking: [2 1 1 1 1 1 1 1 1]\n",
            "Accuracy: 49.9437570303712%\n",
            "Num Features: 9\n",
            "Selected Features: [ True  True  True  True  True  True  True  True  True]\n",
            "Feature Ranking: [1 1 1 1 1 1 1 1 1]\n",
            "Accuracy: 49.9437570303712%\n"
          ]
        }
      ]
    },
    {
      "cell_type": "code",
      "metadata": {
        "id": "I8HNo83VAxgx",
        "colab": {
          "base_uri": "https://localhost:8080/"
        },
        "outputId": "12eda6ef-4fd2-4ab7-8387-766c03d93b2a"
      },
      "source": [
        "print('Coefficients: \\n', clf.coef_) #negative coeff = increase in the independent variable = decrease in probability of predicting the dependent variable \n",
        "#positive coeff = increase in the independent variable = increase in probability of predicting the dependent variable"
      ],
      "execution_count": 118,
      "outputs": [
        {
          "output_type": "stream",
          "name": "stdout",
          "text": [
            "Coefficients: \n",
            " [[-0.00817828  0.00909772 -0.00655881 -0.1186115   0.0045067   0.02373816\n",
            "  -0.03219948  0.02828814  0.01272469]\n",
            " [-0.00888308  0.00728633 -0.00294705  0.01335105 -0.02872846  0.09544063\n",
            "   0.09247486  0.02560923  0.04238994]\n",
            " [ 0.00492102 -0.02272643  0.01490965  0.07856133  0.02102412 -0.16138183\n",
            "  -0.08979748 -0.06925807 -0.07614383]]\n"
          ]
        }
      ]
    },
    {
      "cell_type": "code",
      "metadata": {
        "id": "BqUnslS6Axgx",
        "colab": {
          "base_uri": "https://localhost:8080/",
          "height": 364
        },
        "outputId": "4b1a4ad0-51e7-4da6-86af-459af235d953"
      },
      "source": [
        "fig = plt.figure()\n",
        "ax = fig.add_axes([0,0,1,1])\n",
        "features = ['GK','AGK',\t'NETDEF','NETMID',\t'NETOFF',\t'NETDEPTH',\t'NETDEFWIDTH','NETMIDWIDTH','NETOFFWIDTH']\n",
        "coefficients = [clf.coef_[0][0],clf.coef_[0][1],clf.coef_[0][2],clf.coef_[0][3],clf.coef_[0][4],clf.coef_[0][5],clf.coef_[0][6],clf.coef_[0][7],clf.coef_[0][8]]\n",
        "ax.bar(features,coefficients)\n",
        "plt.title(\"Impact on Probability of Classifying a Match as a Loss\")\n",
        "plt.ylim(-0.2,0.2)\n",
        "plt.xlabel(\"Features\")\n",
        "plt.ylabel(\"Coefficients\")\n",
        "plt.rc('axes', titlesize=12)     # fontsize of the axes title\n",
        "plt.rc('axes', labelsize=12)    # fontsize of the x and y labels\n",
        "plt.rc('xtick', labelsize=6)    # fontsize of the tick labels\n",
        "plt.rc('ytick', labelsize=8)    # fontsize of the tick labels\n",
        "plt.show()"
      ],
      "execution_count": 119,
      "outputs": [
        {
          "output_type": "display_data",
          "data": {
            "text/plain": [
              "<Figure size 432x288 with 1 Axes>"
            ],
            "image/png": "[encoded data removed]"
          },
          "metadata": {
            "needs_background": "light"
          }
        }
      ]
    },
    {
      "cell_type": "code",
      "metadata": {
        "id": "CAyOtXy6Axgy",
        "colab": {
          "base_uri": "https://localhost:8080/",
          "height": 364
        },
        "outputId": "28755de3-4823-4293-d771-624d4cfa8146"
      },
      "source": [
        "fig = plt.figure()\n",
        "ax = fig.add_axes([0,0,1,1])\n",
        "features = ['GK','AGK','NETDEF',\t'NETMID',\t'NETOFF',\t'NETDEPTH',\t'NETDEFWIDTH','NETMIDWIDTH','NETOFFWIDTH']\n",
        "coefficients = [clf.coef_[1][0],clf.coef_[1][1],clf.coef_[1][2],clf.coef_[1][3],clf.coef_[1][4],clf.coef_[1][5],clf.coef_[1][6],clf.coef_[1][7],clf.coef_[1][8]]\n",
        "ax.bar(features,coefficients)\n",
        "plt.title(\"Impact on Probability of Classifying a Match as a Draw\")\n",
        "plt.ylim(-0.2,0.2)\n",
        "plt.xlabel(\"Features\")\n",
        "plt.ylabel(\"Coefficients\")\n",
        "plt.rc('axes', titlesize=12)     # fontsize of the axes title\n",
        "plt.rc('axes', labelsize=12)    # fontsize of the x and y labels\n",
        "plt.rc('xtick', labelsize=6)    # fontsize of the tick labels\n",
        "plt.rc('ytick', labelsize=8)    # fontsize of the tick labels\n",
        "plt.show()"
      ],
      "execution_count": 120,
      "outputs": [
        {
          "output_type": "display_data",
          "data": {
            "text/plain": [
              "<Figure size 432x288 with 1 Axes>"
            ],
            "image/png": "[encoded data removed]"
          },
          "metadata": {
            "needs_background": "light"
          }
        }
      ]
    },
    {
      "cell_type": "code",
      "metadata": {
        "id": "Pgu-exQ2Axgy",
        "colab": {
          "base_uri": "https://localhost:8080/",
          "height": 364
        },
        "outputId": "cade7f82-b3b8-40be-db58-26eff98ce127"
      },
      "source": [
        "fig = plt.figure()\n",
        "ax = fig.add_axes([0,0,1,1])\n",
        "features = ('GK','AGK','NETDEF',\t'NETMID',\t'NETOFF',\t'NETDEPTH',\t'NETDEFWIDTH','NETMIDWIDTH','NETOFFWIDTH')\n",
        "coefficients = [clf.coef_[2][0],clf.coef_[2][1],clf.coef_[2][2],clf.coef_[2][3],clf.coef_[2][4],clf.coef_[2][5],clf.coef_[2][6],clf.coef_[2][7],clf.coef_[2][8]]\n",
        "ax.bar(features,coefficients)\n",
        "plt.title(\"Impact on Probability of Classifying a Match as a Win\")\n",
        "plt.ylim(-0.2,0.2)\n",
        "plt.xlabel(\"Features\")\n",
        "plt.ylabel(\"Coefficients\")\n",
        "plt.rc('axes', titlesize=12)     # fontsize of the axes title\n",
        "plt.rc('axes', labelsize=12)    # fontsize of the x and y labels\n",
        "plt.rc('xtick', labelsize=6)    # fontsize of the tick labels\n",
        "plt.rc('ytick', labelsize=8)    # fontsize of the tick labels\n",
        "plt.show()"
      ],
      "execution_count": 121,
      "outputs": [
        {
          "output_type": "display_data",
          "data": {
            "text/plain": [
              "<Figure size 432x288 with 1 Axes>"
            ],
            "image/png": "[encoded data removed]"
          },
          "metadata": {
            "needs_background": "light"
          }
        }
      ]
    },
    {
      "cell_type": "code",
      "metadata": {
        "id": "oz7aV_wkzJlT",
        "colab": {
          "base_uri": "https://localhost:8080/"
        },
        "outputId": "eab1c90f-0a90-4199-c847-bb6dc0a95683"
      },
      "source": [
        "#experimental classifier 2\n",
        "X = df3.loc[:,'GK':'NETOFFWIDTH'].values #independent variables\n",
        "Y = list(df3.RESULT.values) #dependent variables\n",
        "train_x, test_x, train_y, test_y = train_test_split(X,Y,test_size=0.3,random_state=0) #split data into training and test groups\n",
        "clf = LogisticRegression(class_weight='balanced',solver='saga',multi_class='multinomial', max_iter=10000) #set classifier to multinomial logistic regression, change solver to saga\n",
        "clf.fit(train_x, train_y) #train model\n",
        "print ('Accuracy: ' + str(clf.score(test_x, test_y)*100) + '%') #check model accuracy with test group"
      ],
      "execution_count": 122,
      "outputs": [
        {
          "output_type": "stream",
          "name": "stdout",
          "text": [
            "Accuracy: 50.28121484814398%\n"
          ]
        }
      ]
    },
    {
      "cell_type": "code",
      "metadata": {
        "id": "gzu4pSUgzJlY",
        "colab": {
          "base_uri": "https://localhost:8080/"
        },
        "outputId": "88ec8dc3-2ae1-4bd8-b34c-6516524f7844"
      },
      "source": [
        "y_pred=clf.predict(test_x)\n",
        "cnf_matrix = metrics.confusion_matrix(test_y, y_pred)\n",
        "cnf_matrix"
      ],
      "execution_count": 123,
      "outputs": [
        {
          "output_type": "execute_result",
          "data": {
            "text/plain": [
              "array([[137,  50,  54],\n",
              "       [ 92,  61,  91],\n",
              "       [ 86,  69, 249]])"
            ]
          },
          "metadata": {},
          "execution_count": 123
        }
      ]
    },
    {
      "cell_type": "code",
      "metadata": {
        "id": "oTVIbNc1zJlZ",
        "colab": {
          "base_uri": "https://localhost:8080/",
          "height": 344
        },
        "outputId": "5c8f93d8-efa5-40c3-ce1f-23560bf492bd"
      },
      "source": [
        "class_names=[0,1,2] # name  of classes\n",
        "fig, ax = plt.subplots()\n",
        "tick_marks = np.arange(len(class_names))\n",
        "plt.xticks(tick_marks, class_names)\n",
        "plt.yticks(tick_marks, class_names)\n",
        "# create heatmap\n",
        "sns.heatmap(pd.DataFrame(cnf_matrix), annot=True, cmap=\"YlGnBu\" ,fmt='g')\n",
        "ax.xaxis.set_label_position(\"top\")\n",
        "plt.tight_layout()\n",
        "plt.title('Confusion matrix', y=1.1)\n",
        "plt.ylabel('Actual label')\n",
        "plt.xlabel('Predicted label')"
      ],
      "execution_count": 124,
      "outputs": [
        {
          "output_type": "execute_result",
          "data": {
            "text/plain": [
              "Text(0.5, 257.44, 'Predicted label')"
            ]
          },
          "metadata": {},
          "execution_count": 124
        },
        {
          "output_type": "display_data",
          "data": {
            "text/plain": [
              "<Figure size 432x288 with 2 Axes>"
            ],
            "image/png": "[encoded data removed]"
          },
          "metadata": {
            "needs_background": "light"
          }
        }
      ]
    },
    {
      "cell_type": "code",
      "metadata": {
        "id": "BUAL6BrU1u1n",
        "colab": {
          "base_uri": "https://localhost:8080/"
        },
        "outputId": "ee220812-38ca-4a54-f1ea-2074db7f900a"
      },
      "source": [
        "correct_loss_pred = 100*cnf_matrix[0][0]/(cnf_matrix[0][0]+cnf_matrix[0][1]+cnf_matrix[0][2])\n",
        "correct_draw_pred = 100*cnf_matrix[1][1]/(cnf_matrix[1][0]+cnf_matrix[1][1]+cnf_matrix[1][2])\n",
        "correct_win_pred = 100*cnf_matrix[2][2]/(cnf_matrix[2][0]+cnf_matrix[2][1]+cnf_matrix[2][2])\n",
        "print('Percentage of losses correctly classified: ' + str(correct_loss_pred) + '%')\n",
        "print('Percentage of draws correctly classified: ' + str(correct_draw_pred) + '%')\n",
        "print('Percentage of wins correctly classified: ' + str(correct_win_pred) + '%')"
      ],
      "execution_count": 125,
      "outputs": [
        {
          "output_type": "stream",
          "name": "stdout",
          "text": [
            "Percentage of losses correctly classified: 56.84647302904564%\n",
            "Percentage of draws correctly classified: 25.0%\n",
            "Percentage of wins correctly classified: 61.633663366336634%\n"
          ]
        }
      ]
    },
    {
      "cell_type": "code",
      "metadata": {
        "id": "NbGhphjDzJla",
        "colab": {
          "base_uri": "https://localhost:8080/"
        },
        "outputId": "5b18aa9f-b73e-4fd7-dbe7-a2f9069b836e"
      },
      "source": [
        "for i in range(1, 10):\n",
        "  clf1 = LogisticRegression(class_weight = 'balanced',solver='saga',multi_class='multinomial', max_iter=10000) #set classifier to multinomial logistic regression \n",
        "  rfe = RFE(estimator=clf1, n_features_to_select=i)   \n",
        "  fit = rfe.fit(train_x, train_y)\n",
        "  print('Num Features: '+ str(fit.n_features_))\n",
        "  print('Selected Features: ' + str(fit.support_))\n",
        "  print('Feature Ranking: ' + str(fit.ranking_))\n",
        "  print('Accuracy: '+str(fit.score(test_x, test_y)*100)+'%') #check model accuracy with test group"
      ],
      "execution_count": 126,
      "outputs": [
        {
          "output_type": "stream",
          "name": "stdout",
          "text": [
            "Num Features: 1\n",
            "Selected Features: [False False False  True False False False False False]\n",
            "Feature Ranking: [9 8 7 1 6 3 2 4 5]\n",
            "Accuracy: 48.59392575928009%\n",
            "Num Features: 2\n",
            "Selected Features: [False False False  True False False  True False False]\n",
            "Feature Ranking: [8 7 6 1 5 2 1 3 4]\n",
            "Accuracy: 48.818897637795274%\n",
            "Num Features: 3\n",
            "Selected Features: [False False False  True False  True  True False False]\n",
            "Feature Ranking: [7 6 5 1 4 1 1 2 3]\n",
            "Accuracy: 48.4814398200225%\n",
            "Num Features: 4\n",
            "Selected Features: [False False False  True False  True  True  True False]\n",
            "Feature Ranking: [6 5 4 1 3 1 1 1 2]\n",
            "Accuracy: 49.38132733408324%\n",
            "Num Features: 5\n",
            "Selected Features: [False False False  True False  True  True  True  True]\n",
            "Feature Ranking: [5 4 3 1 2 1 1 1 1]\n",
            "Accuracy: 49.493813273340834%\n",
            "Num Features: 6\n",
            "Selected Features: [False False False  True  True  True  True  True  True]\n",
            "Feature Ranking: [4 3 2 1 1 1 1 1 1]\n",
            "Accuracy: 50.168728908886386%\n",
            "Num Features: 7\n",
            "Selected Features: [False False  True  True  True  True  True  True  True]\n",
            "Feature Ranking: [3 2 1 1 1 1 1 1 1]\n",
            "Accuracy: 50.61867266591676%\n",
            "Num Features: 8\n",
            "Selected Features: [False  True  True  True  True  True  True  True  True]\n",
            "Feature Ranking: [2 1 1 1 1 1 1 1 1]\n",
            "Accuracy: 50.61867266591676%\n",
            "Num Features: 9\n",
            "Selected Features: [ True  True  True  True  True  True  True  True  True]\n",
            "Feature Ranking: [1 1 1 1 1 1 1 1 1]\n",
            "Accuracy: 50.28121484814398%\n"
          ]
        }
      ]
    },
    {
      "cell_type": "code",
      "metadata": {
        "id": "s440NP_4zJla",
        "colab": {
          "base_uri": "https://localhost:8080/"
        },
        "outputId": "d5ea2779-152f-4b99-b9b2-b027df6efc22"
      },
      "source": [
        "print('Coefficients: \\n', clf.coef_) #negative coeff = increase in the independent variable = decrease in probability of predicting the dependent variable \n",
        "#positive coeff = increase in the independent variable = increase in probability of predicting the dependent variable"
      ],
      "execution_count": 127,
      "outputs": [
        {
          "output_type": "stream",
          "name": "stdout",
          "text": [
            "Coefficients: \n",
            " [[-0.00248198  0.00346299 -0.00508594 -0.07524903  0.0029427   0.03657644\n",
            "  -0.01521285  0.02792792  0.01738944]\n",
            " [-0.00478812  0.00494944 -0.00258389  0.01843168 -0.01664391  0.04871816\n",
            "   0.05830314  0.01127236  0.02186094]\n",
            " [ 0.00727009 -0.00841243  0.00766983  0.05681735  0.01370121 -0.0852946\n",
            "  -0.04309029 -0.03920027 -0.03925038]]\n"
          ]
        }
      ]
    },
    {
      "cell_type": "code",
      "metadata": {
        "id": "719-HJE6zJlb",
        "colab": {
          "base_uri": "https://localhost:8080/",
          "height": 364
        },
        "outputId": "dfdb27fb-d62f-4b18-ab43-ccfd1f417b0b"
      },
      "source": [
        "fig = plt.figure()\n",
        "ax = fig.add_axes([0,0,1,1])\n",
        "features = ['GK','AGK',\t'NETDEF','NETMID',\t'NETOFF',\t'NETDEPTH',\t'NETDEFWIDTH','NETMIDWIDTH','NETOFFWIDTH']\n",
        "coefficients = [clf.coef_[0][0],clf.coef_[0][1],clf.coef_[0][2],clf.coef_[0][3],clf.coef_[0][4],clf.coef_[0][5],clf.coef_[0][6],clf.coef_[0][7],clf.coef_[0][8]]\n",
        "ax.bar(features,coefficients)\n",
        "plt.title(\"Impact on Probability of Classifying a Match as a Loss\")\n",
        "plt.ylim(-0.2,0.2)\n",
        "plt.xlabel(\"Features\")\n",
        "plt.ylabel(\"Coefficients\")\n",
        "plt.rc('axes', titlesize=12)     # fontsize of the axes title\n",
        "plt.rc('axes', labelsize=12)    # fontsize of the x and y labels\n",
        "plt.rc('xtick', labelsize=6)    # fontsize of the tick labels\n",
        "plt.rc('ytick', labelsize=8)    # fontsize of the tick labels\n",
        "plt.show()"
      ],
      "execution_count": 128,
      "outputs": [
        {
          "output_type": "display_data",
          "data": {
            "text/plain": [
              "<Figure size 432x288 with 1 Axes>"
            ],
            "image/png": "[encoded data removed]"
          },
          "metadata": {
            "needs_background": "light"
          }
        }
      ]
    },
    {
      "cell_type": "code",
      "metadata": {
        "id": "Z4wsE6jpzJlb",
        "colab": {
          "base_uri": "https://localhost:8080/",
          "height": 364
        },
        "outputId": "12840a3c-9d6a-417c-d3a6-38fca0d16d5d"
      },
      "source": [
        "fig = plt.figure()\n",
        "ax = fig.add_axes([0,0,1,1])\n",
        "features = ['GK','AGK','NETDEF',\t'NETMID',\t'NETOFF',\t'NETDEPTH',\t'NETDEFWIDTH','NETMIDWIDTH','NETOFFWIDTH']\n",
        "coefficients = [clf.coef_[1][0],clf.coef_[1][1],clf.coef_[1][2],clf.coef_[1][3],clf.coef_[1][4],clf.coef_[1][5],clf.coef_[1][6],clf.coef_[1][7],clf.coef_[1][8]]\n",
        "ax.bar(features,coefficients)\n",
        "plt.title(\"Impact on Probability of Classifying a Match as a Draw\")\n",
        "plt.ylim(-0.2,0.2)\n",
        "plt.xlabel(\"Features\")\n",
        "plt.ylabel(\"Coefficients\")\n",
        "plt.rc('axes', titlesize=12)     # fontsize of the axes title\n",
        "plt.rc('axes', labelsize=12)    # fontsize of the x and y labels\n",
        "plt.rc('xtick', labelsize=6)    # fontsize of the tick labels\n",
        "plt.rc('ytick', labelsize=8)    # fontsize of the tick labels\n",
        "plt.show()"
      ],
      "execution_count": 129,
      "outputs": [
        {
          "output_type": "display_data",
          "data": {
            "text/plain": [
              "<Figure size 432x288 with 1 Axes>"
            ],
            "image/png": "[encoded data removed]"
          },
          "metadata": {
            "needs_background": "light"
          }
        }
      ]
    },
    {
      "cell_type": "code",
      "metadata": {
        "id": "yCsZBy61zJlc",
        "colab": {
          "base_uri": "https://localhost:8080/",
          "height": 364
        },
        "outputId": "fd0692bc-9b71-4371-bdf4-e2ba64d02cf1"
      },
      "source": [
        "fig = plt.figure()\n",
        "ax = fig.add_axes([0,0,1,1])\n",
        "features = ('GK','AGK','NETDEF',\t'NETMID',\t'NETOFF',\t'NETDEPTH',\t'NETDEFWIDTH','NETMIDWIDTH','NETOFFWIDTH')\n",
        "coefficients = [clf.coef_[2][0],clf.coef_[2][1],clf.coef_[2][2],clf.coef_[2][3],clf.coef_[2][4],clf.coef_[2][5],clf.coef_[2][6],clf.coef_[2][7],clf.coef_[2][8]]\n",
        "ax.bar(features,coefficients)\n",
        "plt.title(\"Impact on Probability of Classifying a Match as a Win\")\n",
        "plt.ylim(-0.2,0.2)\n",
        "plt.xlabel(\"Features\")\n",
        "plt.ylabel(\"Coefficients\")\n",
        "plt.rc('axes', titlesize=12)     # fontsize of the axes title\n",
        "plt.rc('axes', labelsize=12)    # fontsize of the x and y labels\n",
        "plt.rc('xtick', labelsize=6)    # fontsize of the tick labels\n",
        "plt.rc('ytick', labelsize=8)    # fontsize of the tick labels\n",
        "plt.show()"
      ],
      "execution_count": 130,
      "outputs": [
        {
          "output_type": "display_data",
          "data": {
            "text/plain": [
              "<Figure size 432x288 with 1 Axes>"
            ],
            "image/png": "[encoded data removed]"
          },
          "metadata": {
            "needs_background": "light"
          }
        }
      ]
    }
  ]
}